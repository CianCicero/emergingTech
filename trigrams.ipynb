{
 "cells": [
  {
   "cell_type": "markdown",
   "metadata": {},
   "source": [
    "##### Imports"
   ]
  },
  {
   "cell_type": "code",
   "execution_count": 109,
   "metadata": {},
   "outputs": [],
   "source": [
    "import os\n",
    "from pathlib import Path\n",
    "import re\n",
    "import random\n",
    "import json"
   ]
  },
  {
   "cell_type": "markdown",
   "metadata": {},
   "source": [
    "# <b> Task 1: Third-order letter approximation model\n",
    "\n"
   ]
  },
  {
   "cell_type": "markdown",
   "metadata": {},
   "source": [
    "### <b> 1.1 Converting texts to appropriate format. \n",
    "#### <b> In this section we will go through all of the unprocessed files, removing any character that is not a letter, space or full-stop.\n",
    "<br>\n"
   ]
  },
  {
   "cell_type": "markdown",
   "metadata": {},
   "source": [
    "##### Set our input directory and our output directory."
   ]
  },
  {
   "cell_type": "code",
   "execution_count": 110,
   "metadata": {},
   "outputs": [],
   "source": [
    "input_dir = Path(\"unprocessedTexts\")\n",
    "output_dir = Path(\"processedTexts\")\n",
    "\n",
    "input_dir.mkdir(exist_ok=True)\n",
    "output_dir.mkdir(exist_ok=True)"
   ]
  },
  {
   "cell_type": "markdown",
   "metadata": {},
   "source": [
    "##### Take in the file's name and read it.<br> Return a string called \"text\" for further processing. "
   ]
  },
  {
   "cell_type": "code",
   "execution_count": 111,
   "metadata": {},
   "outputs": [],
   "source": [
    "def read_file(filename):\n",
    "    input_path = input_dir / filename\n",
    "    with open(input_path, 'r', encoding='utf-8') as f:\n",
    "        text = f.read()\n",
    "    return text"
   ]
  },
  {
   "cell_type": "markdown",
   "metadata": {},
   "source": [
    "##### Remove the header by replacing anything before the line \"START OF THE PROJECT GUTENBERG EBOOK\" (Inclusive).<br> Remove the footer by replacing anything after the line \"END OF THE PROJECT GUTENBERG EBOOK\" (Inclusive)."
   ]
  },
  {
   "cell_type": "code",
   "execution_count": 112,
   "metadata": {},
   "outputs": [],
   "source": [
    "def remove_header_footer(text):\n",
    "    text = re.sub(r\"(?s)^.*\\*\\*\\* START OF THE PROJECT GUTENBERG EBOOK\", \"\", text)\n",
    "    text = re.sub(r\"\\*\\*\\* END OF THE PROJECT GUTENBERG EBOOK.*$\", \"\", text)\n",
    "    return text"
   ]
  },
  {
   "cell_type": "markdown",
   "metadata": {},
   "source": [
    "##### Convert the text to uppercase."
   ]
  },
  {
   "cell_type": "code",
   "execution_count": 113,
   "metadata": {},
   "outputs": [],
   "source": [
    "def convert_to_uppercase(text):\n",
    "    return text.upper()"
   ]
  },
  {
   "cell_type": "markdown",
   "metadata": {},
   "source": [
    "##### Replace any line breaks with spaces. <br> This will preserve the space between the words."
   ]
  },
  {
   "cell_type": "code",
   "execution_count": 114,
   "metadata": {},
   "outputs": [],
   "source": [
    "def replace_newlines(text):\n",
    "    return text.replace(\"\\n\", \" \")"
   ]
  },
  {
   "cell_type": "markdown",
   "metadata": {},
   "source": [
    "##### Replace any of the following characters <b>-;:</b> with spaces. <br> It's likely that two words seperated by these characters will make more sense seperated than joined. <br> For example \"Self-esteem\" will be converted to \"Self esteem\" instead of \"Selfesteem\"."
   ]
  },
  {
   "cell_type": "code",
   "execution_count": 115,
   "metadata": {},
   "outputs": [],
   "source": [
    "def remove_special_characters(text):\n",
    "    return re.sub(r\"[-;:]\", \" \", text)"
   ]
  },
  {
   "cell_type": "markdown",
   "metadata": {},
   "source": [
    "##### Make a new string \"processed\" which is made up the letters, spaces and full stops in the \"text\" string."
   ]
  },
  {
   "cell_type": "code",
   "execution_count": 116,
   "metadata": {},
   "outputs": [],
   "source": [
    "def keep_only_valid_characters(text):\n",
    "    processed = ''\n",
    "    for char in text:\n",
    "      if char.isalpha() or char == '.' or char == ' ':\n",
    "        processed += char\n",
    "    return processed"
   ]
  },
  {
   "cell_type": "markdown",
   "metadata": {},
   "source": [
    "##### Previous methods that replaced characters with spaces may have created instances where more than one space appears in a row. <br> This will correct this. \n"
   ]
  },
  {
   "cell_type": "code",
   "execution_count": 117,
   "metadata": {},
   "outputs": [],
   "source": [
    "def remove_extra_spaces(processed):\n",
    "    return re.sub(' +', ' ', processed)"
   ]
  },
  {
   "cell_type": "markdown",
   "metadata": {},
   "source": [
    "##### Write the processed text to a file in the output directory."
   ]
  },
  {
   "cell_type": "code",
   "execution_count": 118,
   "metadata": {},
   "outputs": [],
   "source": [
    "def write_to_file(filename, processed):\n",
    "    output_filename = 'processed_' + filename\n",
    "    output_path = output_dir / output_filename\n",
    "    with open(output_path, 'w', encoding='utf-8') as f:\n",
    "        f.write(processed)"
   ]
  },
  {
   "cell_type": "markdown",
   "metadata": {},
   "source": [
    "##### Take in a file, call all the previous methods on it. <br>Print out message to inform the user if the processing was successful or not."
   ]
  },
  {
   "cell_type": "code",
   "execution_count": 119,
   "metadata": {},
   "outputs": [],
   "source": [
    "def process_text(filename):\n",
    "    try:\n",
    "        # Read input file\n",
    "        text = read_file(filename)\n",
    "\n",
    "        text = remove_header_footer(text)\n",
    "        text = convert_to_uppercase(text)\n",
    "        text = replace_newlines(text)\n",
    "        text = remove_special_characters(text)\n",
    "        processed = keep_only_valid_characters(text)\n",
    "        processed = remove_extra_spaces(processed)\n",
    "        \n",
    "        # Write processed text to new file\n",
    "        write_to_file(filename, processed)\n",
    "            \n",
    "        print(f\"Successfully processed {filename}\")\n",
    "            \n",
    "    except Exception as e:\n",
    "        print(f\"Error processing {filename}: {str(e)}\")\n"
   ]
  },
  {
   "cell_type": "markdown",
   "metadata": {},
   "source": [
    "##### Process all files in the input directory."
   ]
  },
  {
   "cell_type": "code",
   "execution_count": 120,
   "metadata": {},
   "outputs": [
    {
     "name": "stdout",
     "output_type": "stream",
     "text": [
      "Successfully processed aJourneytotheCentreoftheEarth.txt\n",
      "Successfully processed Anthem.txt\n",
      "Successfully processed gulliversTravels.txt\n",
      "Successfully processed theMysteriousAffairatStyles.txt\n",
      "Successfully processed zara.txt\n"
     ]
    }
   ],
   "source": [
    "def process_all_files():\n",
    "    for filename in os.listdir(input_dir):\n",
    "        if filename.endswith(\".txt\"):\n",
    "            process_text(filename)\n",
    "\n",
    "process_all_files()"
   ]
  },
  {
   "cell_type": "markdown",
   "metadata": {},
   "source": [
    "### <b> 1.2 Count how many times each trigram appears in a file. \n",
    "#### <b> In this section we will go through all of the processed files, storing every trigram and the number of times they appear\n",
    "<br>"
   ]
  },
  {
   "cell_type": "markdown",
   "metadata": {},
   "source": [
    "##### Create a dictionary \"trigram_appearances\" to store our trigram information. <br>Set our input directory"
   ]
  },
  {
   "cell_type": "code",
   "execution_count": 121,
   "metadata": {},
   "outputs": [],
   "source": [
    "trigram_appearances = {}\n",
    "processed_dir = Path(\"processedTexts\")"
   ]
  },
  {
   "cell_type": "markdown",
   "metadata": {},
   "source": [
    "##### Loop through each character in the text. Create a trigram made up of that character and the following 2 characters. <br>If that trigram already exists in our dictionary increase its count by 1. If it doesn't, add it to the dictionary with a count of 1."
   ]
  },
  {
   "cell_type": "code",
   "execution_count": 122,
   "metadata": {},
   "outputs": [],
   "source": [
    "def count_trigrams(text):\n",
    "\n",
    " for i in range(len(text) - 2):\n",
    "    trigram = text[i:i+3]\n",
    "    if trigram in trigram_appearances:\n",
    "        trigram_appearances[trigram] += 1\n",
    "    else:\n",
    "        trigram_appearances[trigram] = 1\n",
    "\n",
    " return trigram_appearances"
   ]
  },
  {
   "cell_type": "markdown",
   "metadata": {},
   "source": [
    "##### Count the trigram appearances for each file in the processed directory. <br>Print the result."
   ]
  },
  {
   "cell_type": "code",
   "execution_count": 123,
   "metadata": {},
   "outputs": [
    {
     "name": "stdout",
     "output_type": "stream",
     "text": [
      "{'CHA': 822, 'HAP': 785, 'APT': 299, 'PTE': 273, 'TER': 4129, 'ER ': 9934, 'R M': 1267, ' MY': 4826, 'MY ': 4464, 'Y U': 751, ' UN': 2388, 'UNC': 822, 'NCL': 657, 'CLE': 892, 'LE ': 4242, 'E M': 3703, ' MA': 4536, 'MAK': 462, 'AKE': 1532, 'KES': 157, 'ES ': 5945, 'S A': 6076, ' A ': 7542, 'A G': 519, ' GR': 2042, 'GRE': 1508, 'REA': 3381, 'EAT': 2146, 'AT ': 9287, 'T D': 1096, ' DI': 3176, 'DIS': 1584, 'ISC': 581, 'SCO': 474, 'COV': 396, 'OVE': 2088, 'VER': 5113, 'ERY': 1627, 'RY ': 2821, 'Y L': 822, ' LO': 2479, 'LOO': 791, 'OOK': 1098, 'OKI': 110, 'KIN': 1242, 'ING': 10170, 'NG ': 9273, 'G B': 350, ' BA': 923, 'BAC': 351, 'ACK': 597, 'CK ': 911, 'K T': 470, ' TO': 12292, 'TO ': 11858, 'O A': 1161, ' AL': 3925, 'ALL': 4643, 'LL ': 5793, 'L T': 1609, ' TH': 42056, 'THA': 5306, 'HAT': 6552, 'T H': 2339, ' HA': 7483, 'HAS': 574, 'AS ': 7228, 'S O': 3808, ' OC': 272, 'OCC': 146, 'CCU': 142, 'CUR': 367, 'URR': 160, 'RRE': 351, 'RED': 2288, 'ED ': 13786, 'D T': 7245, 'O M': 1753, ' ME': 4305, 'ME ': 5521, 'E S': 6205, ' SI': 1776, 'SIN': 741, 'INC': 756, 'NCE': 3063, 'CE ': 3430, 'E T': 8368, 'T E': 717, ' EV': 1835, 'EVE': 3586, 'VEN': 1440, 'ENT': 4233, 'NTF': 2, 'TFU': 114, 'FUL': 923, 'UL ': 698, 'L D': 299, ' DA': 1289, 'DAY': 790, 'AY ': 2197, 'Y I': 1254, ' I ': 8422, 'I A': 713, ' AM': 874, 'AM ': 534, 'M S': 240, ' SC': 549, 'SCA': 246, 'CAR': 565, 'ARC': 249, 'RCE': 321, 'CEL': 330, 'ELY': 814, 'LY ': 5542, 'Y A': 2756, ' AB': 1474, 'ABL': 1230, 'BLE': 2057, 'O B': 1308, ' BE': 7164, 'BEL': 561, 'ELI': 684, 'LIE': 773, 'IEV': 308, 'VE ': 4541, 'E I': 4470, ' IN': 9486, 'IN ': 7514, 'N T': 6272, 'THE': 32456, 'HE ': 25748, 'E R': 1856, ' RE': 4202, 'EAL': 594, 'ALI': 454, 'LIT': 1038, 'ITY': 1168, 'TY ': 1960, 'Y O': 1743, ' OF': 12590, 'OF ': 12207, 'F M': 1098, ' AD': 599, 'ADV': 257, 'DVE': 60, 'NTU': 155, 'TUR': 1494, 'URE': 1545, 'RES': 2177, 'ES.': 722, 'S. ': 2961, '. T': 3360, 'HEY': 1815, 'EY ': 2079, 'Y W': 1749, ' WE': 5446, 'WER': 1954, 'ERE': 5612, 'RE ': 8030, ' TR': 1483, 'TRU': 693, 'RUL': 112, 'ULY': 57, 'Y S': 1719, ' SO': 3734, 'SO ': 1615, 'O W': 829, ' WO': 2956, 'WON': 199, 'OND': 630, 'NDE': 1714, 'DER': 1958, 'ERF': 363, 'RFU': 152, 'EN ': 6102, 'N N': 256, ' NO': 6091, 'NOW': 1611, 'OW ': 2539, 'W I': 341, 'M B': 196, 'BEW': 14, 'EWI': 94, 'WIL': 1256, 'ILD': 413, 'LDE': 267, 'D W': 2669, ' WH': 7906, 'WHE': 1988, 'HEN': 2328, 'N I': 2022, 'I T': 548, 'THI': 4343, 'HIN': 2349, 'INK': 545, 'NK ': 468, 'K O': 367, 'F T': 4585, 'HEM': 1315, 'EM.': 157, 'M. ': 564, '. M': 621, 'E W': 5978, ' WA': 5904, 'WAS': 3981, ' GE': 546, 'GER': 676, 'ERM': 333, 'RMA': 184, 'MAN': 2234, 'AN ': 3666, 'N H': 1585, 'HAV': 2230, 'AVI': 392, 'VIN': 678, 'G M': 469, 'MAR': 517, 'ARR': 729, 'RRI': 563, 'RIE': 1236, 'IED': 921, 'D M': 2334, 'Y M': 1119, ' MO': 2943, 'MOT': 274, 'OTH': 2112, 'HER': 6540, 'ERS': 2504, 'RS ': 2397, 'S S': 2229, 'SIS': 188, 'IST': 1302, 'STE': 1573, 'R A': 2389, ' AN': 15379, 'N E': 806, ' EN': 1422, 'ENG': 414, 'NGL': 718, 'GLI': 148, 'LIS': 326, 'ISH': 1004, 'SHW': 2, 'HWO': 2, 'WOM': 197, 'OMA': 207, 'AN.': 162, 'N. ': 1328, '. B': 1023, 'BEI': 364, 'EIN': 576, 'G V': 84, ' VE': 1347, ' MU': 1326, 'MUC': 530, 'UCH': 1091, 'CH ': 3992, 'H A': 1755, ' AT': 2540, 'ATT': 709, 'TTA': 81, 'TAC': 132, 'ACH': 727, 'CHE': 923, 'HED': 707, 'O H': 1259, ' HI': 5078, 'HIS': 5014, 'IS ': 8542, 'S F': 1482, ' FA': 1905, 'FAT': 230, 'ATH': 1993, 'ERL': 199, 'RLE': 38, 'LES': 1314, 'ESS': 2747, 'SS ': 2026, 'S N': 1281, ' NE': 1694, 'NEP': 21, 'EPH': 54, 'PHE': 206, 'HEW': 28, 'EW ': 823, 'W H': 263, ' HE': 6535, 'INV': 156, 'NVI': 105, 'VIT': 98, 'ITE': 966, 'TED': 2237, 'O S': 1355, ' ST': 3703, 'STU': 269, 'TUD': 190, 'UDY': 35, 'DY ': 603, 'UND': 2167, 'R H': 1432, 'HIM': 1524, 'IM ': 1089, 'M I': 461, 'S H': 1909, ' HO': 3250, 'HOM': 387, 'OME': 2569, 'E F': 3076, 'RLA': 24, 'LAN': 944, 'AND': 14631, 'ND.': 340, 'D. ': 1853, 'S I': 3178, 'N A': 3441, 'A L': 616, ' LA': 2247, 'LAR': 589, 'ARG': 308, 'RGE': 362, 'GE ': 1168, 'TOW': 315, 'OWN': 1367, 'WN ': 1251, 'ND ': 15988, 'E A': 7439, 'A P': 588, ' PR': 3003, 'PRO': 1675, 'ROF': 305, 'OFE': 224, 'FES': 340, 'SSO': 288, 'SOR': 418, 'OR ': 5350, 'R O': 1484, 'F P': 347, ' PH': 219, 'PHI': 115, 'HIL': 593, 'ILO': 112, 'LOS': 439, 'OSO': 80, 'SOP': 68, 'OPH': 89, 'PHY': 70, 'HY ': 765, 'Y C': 1217, ' CH': 1283, 'EMI': 184, 'MIS': 530, 'STR': 2413, 'TRY': 413, 'Y G': 404, 'GEO': 74, 'EOL': 35, 'OLO': 189, 'LOG': 127, 'OGY': 34, 'GY ': 49, ' MI': 1752, 'MIN': 1259, 'INE': 1811, 'NER': 742, 'ERA': 811, 'RAL': 650, 'ALO': 377, 'ANY': 1238, 'NY ': 1180, ' OT': 725, ' OL': 390, 'OGI': 63, 'GIE': 10, 'IES': 908, '. O': 524, ' ON': 4854, 'ONE': 3234, 'NE ': 3062, 'E D': 2524, ' AF': 803, 'AFT': 762, 'FTE': 872, 'R P': 617, ' PA': 1819, 'PAS': 532, 'ASS': 909, 'SSI': 852, 'G S': 486, 'SOM': 1227, 'E H': 4059, 'HOU': 3418, 'OUR': 3933, 'URS': 898, 'E L': 2089, 'LAB': 86, 'ABO': 1047, 'BOR': 119, 'ORA': 190, 'RAT': 1611, 'ATO': 111, 'TOR': 664, 'ORY': 218, 'E B': 2838, 'G A': 1345, 'ABS': 142, 'BSE': 277, 'SEN': 748, 'NT ': 3356, 'T A': 3978, 'T T': 6044, ' TI': 1020, 'TIM': 929, 'IME': 1082, 'I S': 1035, ' SU': 2552, 'SUD': 184, 'UDD': 221, 'DDE': 401, 'DEN': 924, 'ENL': 187, 'NLY': 978, 'Y F': 1190, ' FE': 1288, 'FEL': 366, 'ELT': 156, 'LT ': 432, 'E N': 1819, 'NEC': 212, 'ECE': 506, 'CES': 723, 'SIT': 568, 'F R': 236, 'REN': 808, 'ENO': 332, 'NOV': 13, 'OVA': 14, 'VAT': 165, 'ATI': 2031, 'TIN': 1471, 'G T': 1849, 'TIS': 168, 'ISS': 303, 'SSU': 148, 'SUE': 40, 'UES': 571, ' II': 41, 'II.': 136, 'I.E': 5, '.E.': 28, 'E.I': 2, '.I ': 5, 'I I': 72, 'I W': 1164, ' HU': 886, 'HUN': 409, 'UNG': 301, 'NGR': 97, 'GRY': 51, 'BOU': 991, 'OUT': 2402, 'UT ': 4686, 'O R': 520, ' RO': 1135, 'ROU': 1328, 'OUS': 1881, 'USE': 1097, 'SE ': 3773, 'E U': 1045, ' UP': 1752, 'UP ': 760, 'P O': 224, ' OU': 2313, 'UR ': 2594, 'OLD': 1038, 'LD ': 3884, 'D F': 1596, ' FR': 2408, 'FRE': 383, 'ENC': 1326, 'NCH': 287, 'H C': 357, ' CO': 6564, 'COO': 81, 'OK ': 626, 'K W': 228, 'N M': 1155, 'E P': 2677, 'R V': 213, ' VO': 493, 'VON': 5, 'ON ': 6206, 'HAR': 680, 'ARD': 1628, 'RDW': 42, 'DWI': 49, 'WIG': 44, 'IGG': 59, 'GG ': 49, ' OP': 417, 'OPE': 696, 'PEN': 660, 'ENE': 913, 'NED': 1418, 'TRE': 892, 'REE': 1041, 'EET': 566, 'ET ': 1657, ' DO': 2900, 'DOO': 164, 'OOR': 303, 'D C': 1112, ' CA': 3134, 'CAM': 553, 'AME': 1381, ' RU': 392, 'RUS': 230, 'USH': 163, 'SHI': 386, 'G U': 280, 'UPS': 52, 'PST': 12, 'STA': 1523, 'TAI': 850, 'AIR': 502, 'IRS': 626, 'RS.': 582, '. N': 555, 'W P': 88, 'WOR': 1401, 'ORT': 1185, 'RTH': 978, 'THY': 631, ' IS': 3863, 'S B': 1438, ' BY': 1819, 'BY ': 1875, 'Y N': 476, 'NO ': 1244, 'MEA': 515, 'EAN': 611, 'ANS': 863, 'NS ': 1968, 'A B': 418, 'BAD': 161, 'AD ': 3035, 'D S': 2438, 'RT ': 1027, 'T O': 3196, 'HOW': 1451, 'OWE': 1337, 'WEV': 608, 'R C': 735, 'CHO': 312, 'HOL': 788, 'OLE': 557, 'LER': 255, 'ERI': 1139, 'RIC': 303, 'IC ': 492, 'C A': 72, 'D O': 2430, ' OR': 1572, 'ORI': 309, 'RIG': 481, 'IGI': 131, 'GIN': 449, 'INA': 507, 'NAL': 418, 'AL.': 105, 'L. ': 529, 'BEA': 390, 'EAR': 3395, 'AR ': 1399, 'R W': 1457, ' WI': 5595, 'WIT': 3415, 'ITH': 3813, 'TH ': 6709, 'H H': 957, 'M M': 193, 'S T': 5045, 'O O': 532, ' OB': 548, 'OBE': 121, 'BEY': 136, 'Y H': 1402, 'HAD': 2304, 'D H': 2506, 'HEA': 1557, 'EAV': 453, 'AVY': 92, 'VY ': 105, 'FEE': 507, 'T R': 614, 'ESO': 166, 'SOU': 494, 'OUN': 2375, 'DED': 802, 'N O': 1973, 'R J': 117, ' JO': 482, 'JOI': 88, 'OIN': 516, 'INT': 1903, 'DOM': 326, 'OMI': 257, 'MIC': 35, 'ICI': 373, 'CIL': 142, 'ILE': 842, 'HAN': 1749, ' SH': 3150, 'SHO': 1170, 'UTE': 460, ' FO': 5340, 'FOR': 5090, 'TTE': 1225, 'TEN': 1391, 'END': 1490, 'D U': 734, 'UPO': 899, 'PON': 963, 'IM.': 168, '. H': 1243, 'RRY': 196, 'I H': 1071, 'AST': 1944, 'Y B': 1234, ' BU': 2820, 'BUT': 2478, 'T B': 1529, 'BEF': 514, 'EFO': 765, 'ORE': 1913, 'I C': 880, 'COU': 2231, 'OUL': 2910, 'ULD': 2677, 'D R': 738, 'EAC': 624, 'S R': 697, 'ROO': 393, 'OOM': 300, 'OM ': 2174, 'M J': 15, ' JU': 506, 'JUM': 19, 'UMP': 104, 'MPI': 49, 'PIN': 468, 'THR': 932, 'HRE': 494, 'EE ': 1379, 'TEP': 136, 'EPS': 67, 'PS ': 474, 'A T': 517, 'TAM': 58, 'AMP': 159, 'G H': 515, ' RI': 688, 'IGH': 2659, 'GHT': 2824, 'HT ': 1971, 'T F': 1298, 'FOO': 299, 'OOT': 283, 'OT ': 3700, 'T U': 584, 'NDI': 729, 'DIN': 820, 'NG.': 459, 'G. ': 487, 'E C': 3560, ' CR': 1305, 'CRI': 615, 'D I': 3378, 'A F': 575, 'FRA': 147, 'RAN': 887, 'ANT': 1430, 'NTI': 924, 'TIC': 794, 'C T': 38, 'TON': 467, ' AR': 2375, 'ARE': 2355, 'E Y': 736, ' YO': 2791, 'YOU': 2798, 'OU ': 2556, 'U C': 126, 'COM': 1858, 'P N': 23, 'W T': 615, 'O T': 3082, ' TE': 1007, 'TEL': 534, 'ELL': 1656, 'RUT': 249, 'UTH': 567, 'T M': 1879, 'MOM': 204, 'MEN': 1959, 'T I': 4434, 'FAR': 333, 'MOR': 1116, 'NTE': 1384, 'EST': 2866, 'E Q': 230, ' QU': 846, 'QUE': 497, 'STI': 1609, 'TIO': 2990, 'ION': 3952, ' AS': 3580, 'WHA': 1410, 'T W': 3296, 'O C': 758, 'CON': 2312, 'ONS': 1773, 'NST': 734, 'TIT': 252, 'ITU': 233, 'TUT': 63, 'TE ': 1685, 'E O': 5116, 'R D': 655, 'INN': 186, 'NNE': 396, 'R T': 3380, 'Y P': 838, 'ROB': 147, 'OBL': 146, 'LEM': 113, 'EM ': 990, 'M O': 412, 'F S': 755, 'SCI': 222, 'CIE': 358, 'IEN': 830, 'OUP': 29, 'P W': 176, 'S M': 1510, 'N S': 1236, 'SOD': 6, 'ODA': 15, 'DA ': 11, 'A A': 240, ' OM': 26, 'MEL': 211, 'ELE': 356, 'LET': 1002, 'ETT': 394, 'TEM': 323, 'EMP': 525, 'MPT': 222, 'PTI': 264, 'ARI': 469, 'RIT': 718, 'THM': 6, 'HME': 108, 'MET': 632, 'ETI': 248, 'D A': 4582, 'ART': 1857, 'RTI': 442, 'ICH': 2281, 'HOK': 19, 'OKE': 621, 'KE ': 1886, 'MES': 487, 'E V': 713, ' VA': 477, 'VAL': 276, 'ALU': 144, 'LUE': 169, 'UE ': 479, 'AMO': 371, 'MOU': 532, 'UNT': 1483, 'F A': 1601, 'ASB': 1, 'SBE': 7, 'BES': 335, 'STO': 1052, 'TOS': 15, 'OS.': 16, 'NOT': 3790, 'A M': 682, 'BE ': 2409, 'E K': 557, ' KE': 308, 'KEP': 85, 'EPT': 457, 'PT ': 374, 'WAI': 177, 'AIT': 270, 'ITI': 692, 'ADJ': 20, 'DJO': 9, 'JOU': 134, 'URN': 727, 'RNI': 446, 'NIN': 1112, 'REF': 569, 'L M': 497, 'INO': 50, 'NOR': 419, 'R Q': 35, 'I P': 168, 'PRE': 1330, 'ESE': 1100, 'MYS': 490, 'YSE': 542, 'SEL': 1848, 'ELF': 1296, 'LF ': 1275, 'F B': 341, 'A V': 337, ' LE': 1969, 'LEA': 1398, 'ARN': 437, 'RNE': 725, 'W M': 238, 'MOS': 719, 'OST': 1002, 'ST ': 5676, 'T P': 906, ' PE': 1589, 'PER': 1814, 'RSO': 249, 'SON': 824, 'S C': 1336, 'CAT': 313, 'ATE': 2472, 'TEG': 8, 'EGO': 39, 'GOR': 31, 'SUP': 370, 'UPP': 267, 'PPL': 132, 'PLY': 197, 'Y T': 2908, 'EMS': 217, 'MSE': 514, 'ELV': 338, 'LVE': 444, 'VES': 707, 'S W': 3012, 'H I': 1366, 'INF': 237, 'NFO': 123, 'ORM': 494, 'MAT': 518, 'S P': 1043, 'PED': 339, 'EDD': 15, 'DDL': 97, 'DLE': 240, 'S D': 1035, 'DO ': 1027, 'H G': 198, ' GO': 1851, 'GOO': 603, 'OOD': 1107, 'ODS': 121, 'DS ': 1575, 'BEN': 110, 'NEF': 70, 'EFI': 81, 'FIT': 81, 'IT ': 4999, 'F O': 499, 'D L': 856, 'LAY': 315, 'P S': 83, 'ORD': 1086, 'RDE': 482, 'O D': 884, 'DIF': 299, 'IFF': 330, 'FFU': 9, 'FUS': 108, 'M A': 764, 'ABR': 36, 'BRO': 476, 'ROA': 309, 'OAD': 186, 'SOC': 56, 'OCI': 71, 'IET': 370, 'ETY': 74, 'N G': 278, 'GEN': 417, 'T S': 2128, 'Y E': 515, ' EX': 1686, 'EXC': 367, 'XCE': 219, 'LLE': 1045, 'LEN': 622, 'UDI': 96, 'DIE': 269, 'NSU': 113, 'SUM': 190, 'UME': 228, 'MED': 658, 'MID': 177, 'IDN': 58, 'DNI': 32, 'NIG': 356, ' OI': 8, 'OIL': 147, 'IL ': 625, 'L H': 434, ' PO': 1919, 'POR': 409, ' OV': 601, 'TOM': 219, 'D D': 961, 'DIG': 97, 'IGE': 83, 'GES': 387, 'HUG': 55, 'UGE': 69, 'QUA': 407, 'UAR': 179, 'RTO': 68, 'OS ': 108, 'FOL': 313, 'OLI': 261, 'LIO': 70, 'IOS': 66, 'O K': 184, 'KEE': 151, 'EEP': 581, 'EP ': 383, 'P T': 353, ' KN': 1005, 'KNO': 825, 'OWL': 218, 'WLE': 129, 'LED': 1079, 'EDG': 155, 'DGE': 280, ' AC': 877, 'ACQ': 65, 'CQU': 65, 'QUI': 629, 'UIR': 139, 'IRE': 839, 'IMS': 365, 'LF.': 161, 'F. ': 232, 'A R': 325, 'EAS': 1317, 'ASO': 259, ' IT': 5413, 'MAY': 399, 'REG': 197, 'EGA': 282, 'GAR': 191, 'OD ': 1177, 'WHY': 205, 'OBJ': 71, 'BJE': 164, 'JEC': 365, 'ECT': 1567, 'CTE': 344, 'ISP': 198, 'SPL': 60, 'PLA': 882, 'S L': 836, 'N W': 1610, 'BSO': 71, 'SOL': 363, 'OLU': 221, 'LUT': 152, 'SSA': 222, 'SAR': 130, 'ARY': 626, 'AMM': 53, 'MME': 252, 'MER': 396, 'EXP': 552, 'XPL': 162, 'LAI': 339, 'AIN': 2357, 'INI': 446, 'NOM': 96, 'ENA': 182, 'NA ': 36, 'A O': 128, 'AVE': 3220, 'ENS': 543, ' AP': 719, 'O F': 529, ' FI': 1868, 'FIN': 621, 'IND': 1518, 'FAU': 16, 'AUL': 54, 'ULT': 330, 'LLU': 92, 'LUD': 71, 'UDE': 260, 'DE ': 1245, 'SUC': 588, 'VAG': 44, 'AGU': 104, 'GUE': 302, 'WAY': 985, 'SUN': 208, 'UN ': 221, 'MOO': 95, 'OON': 388, 'TAR': 385, 'ARS': 549, 'FEW': 155, 'W W': 312, 'OMP': 572, 'MPR': 130, 'REH': 76, 'EHE': 119, 'ANI': 658, 'HON': 251, 'NES': 1721, 'H W': 884, 'RD ': 1188, 'WOU': 1097, 'D N': 1522, 'T C': 1113, 'S G': 565, 'LLY': 974, 'Y R': 545, 'REP': 512, 'EPL': 215, 'LAC': 646, 'ACE': 1024, 'CED': 501, 'D B': 2410, 'POW': 242, 'L A': 1027, 'DJE': 1, 'CTI': 786, 'TIV': 393, 'IVE': 1931, 'VE.': 127, 'E. ': 2942, '. I': 3366, 'N C': 716, 'ONN': 41, 'H T': 2330, 'ALM': 257, 'LMO': 152, 'UNP': 36, 'NPR': 11, 'RON': 472, 'ONO': 274, 'NOU': 480, 'CEA': 194, 'EAB': 55, ' NA': 758, 'NAM': 224, 'S V': 340, 'H R': 171, 'SEM': 154, 'EMB': 338, 'MBL': 230, 'BLI': 343, 'LIN': 907, 'THO': 3177, 'HOS': 751, 'OSE': 1357, 'F W': 664, 'WEL': 819, 'ELS': 298, 'LSH': 2, 'SH ': 685, 'H V': 63, ' VI': 811, 'VIL': 358, 'ILL': 2152, 'LLA': 140, 'LAG': 69, 'AGE': 1000, 'FON': 43, 'F U': 105, ' US': 1226, 'USI': 251, 'M H': 317, 'HAB': 124, 'ABI': 190, 'BIT': 262, 'RIN': 1283, 'G W': 622, 'REB': 106, 'EBY': 75, ' IM': 803, 'IMP': 621, 'ROV': 292, 'VED': 772, 'ED.': 962, 'N F': 778, 'FAC': 543, 'ACT': 789, 'CT ': 803, 'RIO': 488, 'IOD': 68, 'RSE': 857, ' GI': 598, 'GIV': 454, 'P A': 327, ' SW': 280, 'SWA': 71, 'WAL': 348, 'LLO': 585, 'LOW': 996, 'OMF': 46, 'MFI': 1, ' GL': 470, 'GLA': 245, 'LAS': 709, 'WAT': 345, 'ER.': 685, 'R. ': 1367, '. A': 1829, ' SA': 2731, 'SAI': 1049, 'AID': 1006, 'ID ': 2055, 'I N': 152, 'W A': 380, 'ADD': 168, 'DD ': 17, 'T K': 179, ' KI': 557, 'REL': 447, 'ELA': 322, 'LAT': 619, ' BO': 1348, 'DOU': 238, 'OUB': 258, 'UBL': 227, 'TIE': 393, 'AFF': 168, 'FFE': 631, 'FEC': 283, 'ST.': 225, 'T. ': 1602, 'TOO': 903, 'K D': 43, ' DE': 2877, 'DEE': 327, 'P I': 197, 'DOI': 68, 'NGS': 786, 'GS ': 740, 'HOP': 252, ' RA': 932, 'RAR': 123, 'G F': 360, 'FRO': 1614, 'ROM': 1656, 'LEC': 266, 'CTU': 207, '. L': 294, ' LI': 2987, 'LIK': 882, 'IKE': 925, 'EFE': 142, 'FER': 520, 'ERR': 353, 'R S': 1303, 'ANX': 40, 'NXI': 41, 'XIE': 9, 'O G': 444, ' GA': 597, 'GAI': 652, 'N R': 380, 'AL ': 1921, 'L I': 804, ' IK': 1, 'IKN': 1, 'E E': 2043, ' EA': 1224, 'HI.': 1, 'I. ': 233, '. G': 125, 'O U': 238, 'US ': 2432, 'CTS': 171, 'TS ': 2406, 'F L': 349, 'LIF': 412, 'IFE': 454, 'FE ': 373, 'HES': 1126, 'FAI': 280, 'IR ': 1792, ' SP': 1720, 'SPE': 1003, 'PEC': 538, 'ECI': 337, 'CIM': 25, 'HAL': 848, 'ALK': 326, 'LK ': 163, 'ETA': 130, 'TAL': 423, 'DID': 937, 'WE ': 2699, ' BR': 1263, 'BRE': 430, 'EAK': 610, 'AK ': 323, 'H O': 768, 'HAM': 169, '. S': 650, 'TEE': 192, 'EEL': 209, 'EL ': 404, 'L R': 227, 'ROD': 197, 'LOA': 117, 'ADS': 123, 'DST': 173, ' PI': 488, 'PIP': 11, 'IPE': 43, 'PES': 126, 'BOT': 267, 'OTT': 205, 'TTL': 578, 'TLE': 804, 'F V': 135, 'VAR': 67, 'IOU': 685, 'ACI': 156, 'CID': 157, 'IDS': 103, 'OFT': 301, 'R B': 872, 'ALS': 766, 'LS.': 108, 'ONC': 712, ' CL': 750, 'CLA': 206, 'SIF': 14, 'IFY': 76, 'FY ': 65, 'SIX': 163, 'IX ': 151, 'X H': 22, 'NDR': 278, 'DRE': 647, 'T G': 484, 'GIC': 96, 'ICA': 465, 'CAL': 897, 'L S': 612, 'HEI': 1521, 'EIR': 1427, 'WEI': 62, 'EIG': 378, 'RDN': 9, 'DNE': 158, ' FU': 463, 'SIB': 366, 'IBI': 69, 'BIL': 128, 'ILI': 345, ' TA': 1107, 'TAS': 109, ' SM': 472, 'SME': 76, 'LL.': 222, 'COR': 412, 'ORR': 309, 'ESP': 324, 'SPO': 351, 'E G': 1723, 'T L': 1063, 'TIF': 220, 'IFI': 274, 'FIC': 472, 'C M': 26, ' AG': 884, 'GE.': 123, 'TAN': 919, 'OMM': 340, 'MMU': 24, 'MUN': 30, 'UNI': 211, 'NIC': 170, 'L E': 230, 'NTS': 653, 'SIR': 347, 'HUM': 294, 'MPH': 51, 'PHR': 29, 'HRY': 7, 'Y D': 1034, 'DAV': 9, 'CAP': 257, 'PTA': 70, 'ANK': 204, 'NKL': 13, 'KLI': 25, 'R G': 330, 'EN.': 238, 'TAT': 508, 'SUB': 270, 'UBJ': 91, 'WHI': 2671, 'HIC': 2265, 'H M': 776, 'WIS': 523, 'SHE': 1257, 'ONF': 248, 'NFE': 108, 'I M': 389, 'MUS': 635, 'UST': 2060, 'SAY': 522, 'A W': 493, 'ONA': 265, 'APP': 1137, 'PPE': 773, 'PEA': 891, 'ARA': 1006, 'ANC': 1217, 'CE.': 470, 'ALA': 178, 'EAD': 1270, 'ADE': 893, ' SE': 3319, 'SEE': 1171, 'RTR': 10, 'TRA': 1861, 'RAI': 457, 'F H': 942, 'FUT': 85, 'UTU': 96, 'GON': 155, 'HRO': 454, 'OUG': 1487, 'UGH': 1848, 'GH ': 1018, 'FEA': 232, 'ARF': 86, 'S Y': 341, ' YE': 1587, 'YET': 343, 'FIF': 88, 'IFT': 220, 'FTY': 78, 'Y Y': 225, 'YEA': 266, 'WIR': 38, 'IRY': 9, 'RY.': 182, 'Y. ': 1391, 'CTA': 88, 'ACL': 72, 'HID': 103, 'A C': 684, ' CE': 522, 'CER': 539, 'ERT': 780, 'RTA': 569, 'EXT': 423, 'XTE': 108, 'VAS': 87, 'D G': 575, 'GOG': 3, 'OGG': 10, 'GGL': 64, 'GLE': 553, ' EY': 423, 'EYE': 458, 'YES': 647, 'NOS': 46, ' IR': 100, 'IRR': 61, 'REV': 278, 'NTL': 411, 'TLY': 759, 'MPA': 301, 'PAR': 1063, 'FIL': 99, 'LE.': 317, 'EED': 600, 'SEF': 33, 'EFU': 260, 'ICL': 55, 'MAD': 634, 'NSI': 412, 'SID': 576, 'IDE': 1598, 'RAB': 285, ' N ': 1, 'NAS': 19, 'ASA': 77, 'SAL': 133, 'DEV': 157, 'EVI': 459, 'VIA': 39, 'IAT': 177, 'ON.': 564, 'H B': 378, 'TOL': 214, 'ONL': 662, 'TTR': 29, 'RAC': 440, 'TOB': 13, 'OBA': 94, 'ACC': 503, 'CCO': 316, 'CO.': 2, 'O. ': 231, 'ANO': 329, 'ECU': 155, 'CUL': 469, 'ULI': 83, 'LIA': 153, 'IAR': 95, 'ALW': 254, 'LWA': 259, 'AYS': 581, 'YS ': 709, 'EPP': 24, 'A Y': 82, ' YA': 273, 'YAR': 93, 'FIS': 125, 'STS': 236, ' IF': 805, 'IF ': 808, 'GOI': 142, 'HIT': 251, 'T Y': 454, 'U A': 328, 'UMO': 37, 'ORS': 525, 'R F': 796, ' PL': 972, 'PLE': 965, 'SAN': 315, 'PAN': 212, 'NIO': 226, 'FUR': 152, 'URT': 346, 'R N': 370, 'OBS': 309, 'SER': 849, 'ERV': 603, 'RVE': 386, 'LIV': 404, ' NI': 551, 'ICE': 1034, 'T V': 218, ' KO': 11, 'KON': 35, 'ONI': 243, 'IGS': 12, 'GST': 67, 'RAS': 189, 'SSE': 820, 'AMB': 117, 'MBU': 28, 'BUR': 199, 'URG': 62, 'RG.': 17, 'H L': 207, ' LY': 67, 'LYI': 97, 'YIN': 342, 'G I': 731, 'CEN': 539, 'NTR': 628, 'RFE': 155, 'CTL': 215, 'RUR': 3, 'URA': 278, 'ITS': 974, 'ASP': 92, 'ALF': 255, 'WOO': 79, 'BRI': 244, 'ICK': 386, 'CKS': 170, 'KS ': 465, 'FAS': 162, 'ASH': 213, 'HIO': 30, 'GAB': 4, 'W O': 221, 'SES': 590, 'SPA': 377, 'FIR': 664, 'F .': 4, ' . ': 219, '. W': 1634, 'A N': 241, 'A H': 518, 'NDS': 636, 'DSO': 14, 'TOT': 24, 'EXA': 291, 'XAC': 119, 'MFO': 47, 'TAB': 290, 'O E': 447, 'H N': 284, 'OTI': 240, 'ITT': 776, 'OFF': 408, 'FF ': 196, 'ERP': 160, 'RPE': 104, 'DIC': 241, 'ICU': 276, 'ULA': 402, 'CLI': 183, 'FAL': 298, 'NTO': 1275, 'NEI': 241, 'GHB': 92, 'HBO': 89, 'G C': 247, 'CAN': 774, 'ANA': 100, 'WAN': 380, 'DEP': 216, 'EPI': 83, 'PIC': 151, 'ICT': 237, 'R I': 1448, ' IV': 49, 'IVY': 6, 'MAG': 232, 'AGN': 81, 'GNI': 160, 'NIF': 153, 'REW': 231, 'OR.': 130, ' OW': 511, 'N P': 508, 'ROP': 430, 'RTY': 230, 'PRI': 625, 'RIV': 339, 'IVA': 152, 'NCO': 100, 'ME.': 453, 'POS': 930, 'OSS': 563, 'SIO': 610, 'GOD': 230, 'DAU': 28, 'AUG': 393, 'HTE': 240, 'RET': 809, 'ETC': 109, 'TCH': 396, 'G L': 238, 'LAD': 178, 'ADY': 319, 'INH': 82, 'NHA': 113, 'ITA': 329, 'TS.': 223, 'I L': 356, 'LOV': 472, 'GY.': 12, 'PEB': 3, 'EBB': 10, 'BBL': 50, 'BEE': 823, 'EEN': 1368, 'URY': 89, 'PPI': 198, 'PIE': 190, 'F F': 281, 'FAM': 154, 'AMI': 324, 'MIL': 450, 'O P': 572, 'GGS': 18, 'PAT': 263, 'EMN': 54, 'MNL': 6, 'DEC': 230, 'ECL': 61, ' FL': 659, 'FLO': 200, ' DR': 839, 'DRA': 212, 'RAW': 168, 'AWI': 27, 'WIN': 652, 'G R': 163, 'M P': 86, 'POT': 91, 'OTS': 97, 'BEG': 338, 'GAN': 260, 'GRO': 284, 'ROW': 470, 'ROS': 301, 'ORN': 331, 'FOU': 706, 'OCL': 90, 'CLO': 408, 'LOC': 224, 'OCK': 581, 'M G': 51, 'W Q': 9, 'UIC': 64, 'CKE': 322, 'KER': 93, ' PU': 743, 'PUL': 126, 'ULL': 427, 'LLI': 388, 'G D': 237, 'DES': 1145, 'ESC': 316, 'SCR': 247, 'RIB': 325, 'IBE': 183, 'BED': 272, 'L N': 281, 'W G': 47, 'RVI': 118, 'VIE': 140, 'IEW': 98, 'EW.': 22, 'W. ': 181, 'REC': 805, 'CEI': 278, 'EIV': 252, 'SEU': 7, 'EUM': 11, 'UM ': 85, 'M C': 118, 'ONT': 835, 'NTA': 541, 'G E': 210, 'NAT': 758, 'ATU': 507, 'L C': 372, ' CU': 476, 'URI': 453, 'OSI': 304, 'L B': 469, 'IMA': 402, 'AGI': 206, 'LS ': 799, 'EDO': 58, '. E': 174, 'ATA': 68, 'OGU': 38, 'UED': 146, 'PPA': 43, 'IVI': 356, 'VIO': 174, 'UMM': 110, 'MMO': 146, 'MON': 826, 'ORB': 75, 'RBE': 59, 'BOO': 121, 'OK.': 18, 'K. ': 260, 'ARL': 239, 'RLY': 351, 'F E': 327, ' ED': 68, 'EDI': 389, 'DIT': 201, 'COP': 92, 'OPI': 157, 'NIQ': 4, 'IQU': 63, 'ORK': 324, 'RKS': 124, 'KS.': 45, 'TAP': 28, 'AD.': 120, 'L W': 577, 'YEL': 39, 'W L': 66, 'D V': 285, 'VOL': 223, 'LUM': 174, 'W R': 42, 'LLS': 198, 'UE.': 90, 'RAP': 189, 'PTU': 57, 'ADM': 173, 'DMI': 160, 'MIR': 116, ' BI': 368, 'BIN': 101, 'F I': 705, 'ASE': 516, 'EPE': 188, 'LOU': 347, 'OUD': 228, 'UD ': 142, 'A D': 445, 'DOZ': 21, 'OZE': 34, 'ZEN': 44, 'Y V': 194, 'LD.': 134, 'FAN': 81, 'NCY': 105, 'CY ': 142, 'AKI': 249, 'USS': 81, 'T N': 842, 'OVI': 183, 'SO.': 66, 'SED': 1201, 'ASK': 355, 'SKE': 233, 'KED': 929, 'M W': 442, 'UT.': 55, 'EIM': 2, 'MS ': 417, 'S K': 119, ' KR': 3, 'KRI': 1, 'LA ': 30, ' SN': 142, 'SNO': 44, 'LEB': 23, 'EBR': 39, 'BRA': 199, ' IC': 151, ' AU': 191, 'AUT': 251, 'HOR': 965, ' TW': 774, 'TWE': 300, 'LFT': 16, 'FTH': 28, 'RUE': 150, 'ORW': 101, 'RWE': 13, 'WEG': 2, 'EGI': 140, 'GIA': 44, 'IAN': 289, 'WHO': 1789, 'HO ': 1123, 'REI': 126, 'IGN': 383, 'GNE': 107, 'NEX': 174, 'XT ': 133, 'T Q': 93, 'ANG': 787, 'NGU': 276, 'GUA': 158, 'UAG': 113, ' WR': 324, 'WRI': 192, 'NSL': 29, 'SLA': 261, 'GNA': 119, 'NAN': 152, 'LDN': 32, 'DNT': 54, 'ENN': 38, 'NNY': 20, 'DEL': 251, 'LIG': 634, 'RK ': 322, 'K I': 304, 'ONG': 1460, 'D Y': 544, 'SIM': 153, 'MPL': 440, ' ID': 273, 'IDI': 114, 'DIO': 59, 'IOM': 6, 'OMS': 87, 'ORL': 345, 'RLD': 338, 'SAM': 265, 'GRA': 549, 'RAM': 87, 'MMA': 139, 'OMB': 69, 'MBI': 42, 'D K': 107, 'S E': 838, 'ASY': 64, 'SY ': 116, 'INS': 1020, 'REM': 694, 'EMA': 411, 'ARK': 430, 'RK.': 57, 'SHR': 63, 'HRU': 33, 'RUG': 119, 'UGG': 163, 'GGE': 131, 'GED': 341, 'FFI': 310, 'F C': 471, 'RUN': 211, 'ANU': 35, 'NUS': 91, 'USC': 63, 'RIP': 138, 'IPT': 69, 'L P': 320, 'POP': 70, 'OPU': 46, 'NVE': 260, ' OD': 55, 'ODI': 169, ' IG': 47, 'GNO': 54, 'O V': 96, 'D J': 175, 'JOK': 6, 'A S': 1219, 'SMA': 282, 'MAL': 604, 'CRA': 192, 'AP ': 99, 'RCH': 255, 'CHM': 35, 'L O': 704, 'SNA': 33, 'ATC': 169, 'CHI': 512, 'SEI': 56, 'EIZ': 52, 'IZE': 174, 'ZED': 134, 'IT.': 320, 'FIV': 142, 'AWL': 31, 'XTR': 185, 'RAO': 78, 'AOR': 76, 'RDI': 248, 'NAR': 230, 'ACS': 4, 'CSI': 4, 'IMI': 198, 'IEC': 117, 'MPO': 303, 'NDU': 130, 'DUC': 252, 'UCE': 149, 'TAK': 658, 'H E': 293, 'LOT': 142, 'UMA': 190, 'N B': 815, 'GS.': 111, 'DOC': 117, 'OCU': 40, 'CUM': 145, 'N D': 569, 'IC.': 26, 'C. ': 39, 'ILA': 61, 'K B': 99, 'OW.': 141, 'TRO': 578, 'ONV': 275, 'VIC': 193, 'ALP': 20, 'LPH': 17, 'PHA': 66, 'ABE': 29, 'BET': 351, 'DIA': 168, 'IAL': 328, 'ALE': 264, 'YST': 102, 'POO': 114, 'KNE': 265, 'NEW': 475, 'I D': 492, 'EMU': 7, 'MUL': 52, 'ULO': 47, 'NGE': 997, 'K S': 121, 'MUT': 33, 'UTT': 203, 'C I': 32, 'SUR': 736, 'POL': 140, 'OLY': 78, 'LYG': 2, 'YGL': 2, 'GLO': 185, 'ETE': 476, 'N L': 398, 'D P': 1081, 'PUN': 42, 'TWO': 542, 'WO ': 525, 'USA': 156, 'RTS': 217, 'LOB': 45, 'F G': 289, 'UBT': 214, 'BT ': 78, 'IOL': 108, 'ASU': 153, 'MPE': 343, 'PET': 154, 'ETU': 235, 'TUO': 57, 'UOS': 4, 'MIG': 405, 'RUC': 133, 'UCK': 130, 'K C': 47, 'O L': 725, 'K U': 139, 'P M': 100, 'USU': 119, 'SUA': 171, 'UAL': 509, 'L Q': 20, 'RTE': 282, 'INU': 315, 'NUT': 126, 'TES': 606, 'SIG': 378, 'GN ': 96, 'URP': 211, 'RPR': 149, 'RIS': 569, 'ISE': 1073, ' BL': 580, 'ACM': 1, 'CME': 1, ' LU': 173, 'LUX': 15, 'UXU': 9, 'XUR': 9, 'RSL': 3, 'SLE': 270, 'LEY': 38, 'H S': 621, 'TRI': 624, 'RIM': 166, 'IMM': 161, 'MMI': 102, ' OY': 3, 'OYS': 35, 'VEA': 17, 'TEW': 21, 'EWE': 70, 'WED': 303, 'H P': 243, 'PRU': 52, 'UNE': 163, 'LIC': 318, 'CIO': 181, 'FRU': 30, 'RUI': 82, 'UIT': 344, 'RKL': 20, '. F': 387, 'SAK': 90, 'G O': 890, 'STY': 296, 'RBO': 16, 'SHA': 955, 'SAT': 305, 'ISF': 113, 'SFY': 6, 'NSC': 102, 'TH.': 317, 'H. ': 542, 'K A': 501, 'SEK': 1, 'EKE': 49, 'NEA': 325, 'MAS': 341, 'SAD': 69, 'ISA': 116, 'SAP': 64, 'PPO': 269, 'POI': 792, 'NTM': 35, 'TME': 76, 'CCA': 85, 'CAS': 431, 'ASI': 258, 'AVO': 214, 'VOC': 42, 'OC ': 3, 'BEC': 687, 'ECA': 417, 'LSO': 411, 'ARM': 360, 'RM.': 38, 'Y J': 73, 'JUS': 347, 'DRU': 64, 'UNK': 91, 'IBL': 557, 'VOI': 261, 'OIC': 249, 'OAR': 165, 'EAP': 112, 'FIE': 240, 'IER': 161, 'ERC': 247, 'NE.': 216, '. C': 358, ' IL': 146, 'LUS': 160, 'C G': 22, 'GLY': 172, 'LYP': 10, 'YPH': 8, 'PHS': 18, 'HS ': 195, 'RIK': 47, 'IKI': 10, 'O Y': 362, 'U I': 86, 'SEC': 305, 'ECR': 147, 'CRE': 653, 'GET': 471, 'TOP': 167, 'OPP': 188, 'DOW': 690, 'D Q': 87, 'I O': 149, 'YED': 156, 'UBS': 49, 'BST': 68, 'C W': 59, 'ODU': 117, 'W B': 124, 'OLL': 594, 'OWI': 198, 'ESU': 76, 'SUL': 98, ' MM': 6, 'MM.': 12, 'M.R': 2, '.RN': 2, 'RNL': 6, 'NLL': 2, ' ES': 195, 'ESR': 1, 'SRU': 1, 'UEL': 45, 'EEC': 75, 'ECJ': 1, 'CJD': 1, 'JDE': 1, ' SG': 1, 'SGT': 1, 'GTS': 1, 'TSS': 3, 'SSM': 6, 'SMF': 1, 'MF ': 1, 'TEI': 69, 'EIE': 2, 'IEF': 174, 'EF ': 139, 'F N': 187, 'NIE': 282, 'EDR': 28, 'DRK': 1, 'RKE': 152, ' KT': 1, 'KTS': 1, 'TSA': 5, 'AMN': 16, 'MN ': 51, 'ATR': 59, 'SAO': 1, 'AOD': 1, 'ODR': 2, 'DRR': 1, 'RRN': 1, 'RN ': 592, ' EM': 376, 'EMT': 6, 'MTN': 1, 'TNA': 5, 'NAE': 2, 'AEI': 1, 'EI ': 19, ' NU': 161, 'NUA': 52, 'UAE': 2, 'AEC': 3, ' RR': 1, 'RIL': 322, 'ILS': 133, 'LSA': 7, 'SA ': 6, 'ATV': 1, 'TVA': 2, 'VAA': 1, 'AAR': 4, 'R .': 12, ' .N': 1, '.NS': 1, 'CRC': 1, 'RC ': 1, ' IE': 2, 'IEA': 2, 'EAA': 2, 'AAB': 1, 'BS ': 64, ' CC': 1, 'CCD': 1, 'CDR': 1, 'DRM': 1, 'RMI': 219, 'MI ': 39, 'I E': 149, ' EE': 3, 'EEU': 3, 'EUT': 5, 'TUL': 35, 'L F': 317, 'TU ': 2, 'U D': 123, ' DT': 1, 'DTI': 2, 'TIA': 124, 'IAC': 5, 'AC ': 12, 'C O': 24, ' OS': 9, 'EIB': 2, 'IBO': 2, 'BO ': 1, 'DII': 1, 'IIY': 1, 'IY ': 1, 'NIS': 365, 'D E': 820, 'XAM': 133, 'LON': 1091, 'G P': 207, 'OD.': 87, 'INL': 155, 'M N': 123, 'XPE': 229, 'RSA': 116, 'IFO': 22, 'RML': 27, 'MLY': 36, 'NSW': 251, 'SWE': 377, 'PUT': 381, 'UTS': 79, 'CRY': 110, 'RYP': 11, 'YPT': 13, 'PTO': 24, 'TOG': 216, 'OGR': 65, 'APH': 68, 'PH ': 47, 'UNL': 106, 'NLE': 90, 'OWS': 204, 'WS ': 291, 'ERG': 150, 'RUB': 37, 'UBB': 47, 'BBI': 29, 'BIS': 25, 'I K': 143, 'AR.': 112, 'NT.': 293, 'DAT': 75, 'N U': 392, 'NDO': 210, 'BTE': 64, 'OOF': 83, 'CTN': 9, 'TNE': 97, 'URM': 64, 'SE.': 248, 'EFR': 49, 'RAG': 293, 'AGA': 667, 'BE.': 31, 'RST': 940, ' M ': 1, 'C L': 18, 'IOR': 115, ' CI': 280, 'CIR': 111, 'IRC': 122, 'RCU': 103, 'UMS': 88, 'MST': 62, 'BAB': 111, 'WNE': 54, '. P': 301, 'ERH': 210, 'RHA': 177, 'APS': 207, 'LUC': 48, 'MEW': 58, 'EWH': 68, 'RDS': 770, 'FYI': 22, 'G G': 123, 'LY.': 461, 'FLY': 100, 'EAF': 39, 'AF ': 16, 'BLO': 173, ' EF': 110, 'EFF': 164, 'FFA': 60, 'AKN': 54, 'KNU': 42, 'EMM': 44, 'MM ': 36, 'A J': 50, 'JOY': 144, 'OYO': 15, 'RIU': 47, 'IUM': 71, 'C N': 13, 'IXT': 72, 'NTH': 312, 'ALC': 115, 'LCH': 15, 'I B': 244, 'BOW': 91, 'CT.': 70, 'NUE': 147, ' AV': 83, 'NNA': 19, 'ACO': 18, 'LUL': 1, 'LSU': 1, 'SUS': 108, 'AY.': 201, 'ISI': 287, 'IDD': 136, 'TOU': 108, 'OFO': 59, 'LKE': 123, 'XCI': 51, 'CIT': 279, 'EME': 687, 'IDL': 51, 'DLY': 375, 'A U': 22, 'W S': 198, 'W D': 158, 'GAL': 99, 'LIL': 33, 'LEO': 7, 'EO ': 3, 'EE.': 75, '. U': 75, 'TIL': 845, 'EIT': 247, 'R E': 621, ' SL': 503, 'LEE': 287, 'EP.': 47, 'P. ': 184, 'DEA': 658, 'R U': 225, 'R Y': 201, 'U N': 112, 'CKY': 23, 'KY ': 82, 'KEN': 457, 'OWA': 317, 'CLU': 138, 'GH.': 60, 'USL': 168, 'SLY': 187, 'EFL': 99, 'FLE': 255, 'OSP': 96, 'O I': 845, 'DET': 270, 'OLV': 86, 'ANW': 15, 'NWH': 17, 'WEN': 355, 'LOQ': 8, 'OQU': 11, 'QUY': 1, 'UY.': 1, 'HIR': 218, 'IRT': 399, 'SEV': 333, 'NTY': 146, 'NSO': 54, 'VOW': 13, 'OPO': 118, 'ERN': 681, 'NFI': 129, 'FID': 62, 'R L': 648, 'HAK': 49, 'TIR': 128, 'IRI': 341, 'BIR': 97, 'THP': 8, 'HPL': 1, 'BLY': 267, 'WRO': 70, 'ROT': 679, 'OTE': 288, 'IN.': 208, ' GU': 400, 'H F': 421, 'EEK': 217, 'EK ': 97, 'HEB': 8, 'EDL': 99, 'FAV': 111, 'VOR': 37, 'RTL': 57, 'EEM': 321, 'SAC': 66, 'ACR': 105, 'LEG': 127, 'EGE': 67, 'GIB': 15, 'IBB': 15, 'BBE': 38, 'BER': 553, 'ELO': 231, 'VIR': 280, 'IRG': 7, 'RGI': 49, 'GIL': 26, 'IL.': 58, 'BAR': 157, 'ARB': 52, 'RBA': 41, 'ARO': 199, 'L L': 218, '. V': 112, 'I R': 268, 'PLI': 259, 'RAD': 141, 'ADI': 172, 'U S': 282, 'PEL': 79, 'L U': 107, 'PAP': 101, 'APE': 295, 'ETH': 2648, 'HOD': 54, 'ORG': 177, 'RGA': 29, 'NIZ': 31, 'IZA': 19, 'ZAT': 7, 'LSI': 33, 'SI ': 12, 'L V': 71, 'S U': 461, 'BO.': 1, 'HRA': 32, 'RRA': 104, 'N J': 46, 'UMB': 234, 'FIG': 87, 'IGU': 96, 'GUR': 62, 'W Y': 44, 'HTS': 143, ' AW': 506, 'AWA': 414, 'CAU': 434, 'RN.': 34, 'FIA': 14, 'O N': 400, 'NEV': 466, 'BLU': 65, 'LUN': 125, 'UNA': 142, 'W N': 128, 'IS.': 46, 'CIN': 168, 'PUZ': 25, 'UZZ': 38, 'ZZL': 38, 'ZLI': 8, 'HEO': 40, 'EOR': 40, 'WN.': 65, 'LDL': 46, 'NKA': 7, 'KAS': 1, 'ENR': 27, 'NRA': 14, 'RA.': 110, 'A.I': 1, '.IC': 1, 'CEF': 29, 'EFD': 1, 'FDO': 3, 'DOK': 1, 'K.S': 1, '.SE': 1, 'SEG': 1, 'EGN': 13, 'NIT': 358, 'AMU': 23, 'MUR': 155, 'RTN': 13, 'TN ': 1, ' EC': 42, 'TSE': 226, 'ERO': 259, 'OTA': 25, 'AIV': 4, 'IVS': 1, 'VSA': 1, 'ADU': 24, 'DUA': 48, 'AED': 1, 'EDN': 53, 'ECS': 7, 'CSE': 1, 'EDS': 120, 'DSA': 7, 'ADN': 53, 'ACA': 27, 'TNI': 46, 'NII': 2, 'III': 66, 'IIL': 1, 'ILR': 1, 'LRJ': 1, 'RJS': 1, 'JSI': 1, 'IRA': 99, 'CSA': 1, 'RBM': 1, 'BMU': 1, 'UTA': 51, 'EDM': 3, 'DME': 14, 'MEK': 2, 'K M': 151, 'RCS': 1, 'SIL': 301, 'ILU': 36, 'UCO': 3, 'COY': 3, 'YSL': 2, 'LEF': 251, 'FEN': 88, 'NSN': 1, 'SNI': 13, 'NI.': 1, 'I.I': 1, 'Y K': 120, 'P F': 61, 'M L': 82, 'LAU': 258, 'GHI': 68, 'GOT': 187, 'DAR': 201, 'HEE': 501, 'HT.': 169, 'K E': 36, 'DON': 343, ' I.': 30, 'BOM': 11, 'NAB': 130, '. Y': 439, 'U W': 246, 'ARV': 74, 'ID.': 74, 'M T': 1263, 'NKI': 120, 'ALT': 457, 'LTE': 125, 'RNA': 167, 'TUP': 55, 'UPI': 50, 'PID': 121, 'TTY': 54, 'SK ': 149, 'HTI': 25, 'PE.': 57, 'CO ': 7, 'SEA': 512, 'RMC': 3, 'MCH': 3, 'HAI': 173, 'NK.': 29, 'ILY': 537, 'TEA': 318, 'LKI': 77, 'CUT': 121, 'TTI': 205, ' AI': 187, 'ANE': 167, 'BSU': 31, 'URD': 149, 'HIE': 114, 'ROG': 89, 'OGL': 5, 'ICS': 70, 'CS.': 8, 'MEC': 24, 'ECH': 113, 'EXE': 89, 'XEC': 19, 'ZLE': 30, 'OGE': 207, 'WOS': 1, 'EES': 213, 'N V': 178, 'VAI': 102, 'CEP': 202, 'IIC': 1, ' EI': 183, 'HTY': 104, 'XTH': 9, 'RI ': 4, 'IRO': 497, 'TA ': 40, 'RA ': 582, 'EC ': 5, 'AI.': 1, 'HA ': 28, 'COI': 41, 'OI ': 5, 'IRD': 117, 'DI ': 10, ' SY': 74, 'SYL': 10, 'YLL': 13, 'CH.': 83, 'DRI': 194, 'ETW': 160, 'WEE': 297, 'CRU': 139, 'NGI': 180, 'EA ': 435, 'RMO': 90, 'LTY': 103, 'COL': 304, 'DAN': 322, 'VIS': 217, 'NUM': 126, 'MBE': 351, 'BLA': 144, 'K L': 50, 'PS.': 48, 'UCI': 41, 'IFL': 26, 'FLI': 124, 'IR.': 123, 'I F': 314, 'ANN': 416, 'SAW': 234, 'AW ': 359, 'NCI': 343, 'WEA': 301, 'ISO': 228, 'K H': 174, 'RE.': 303, 'FLA': 164, 'HTN': 45, 'L Y': 183, 'U H': 205, 'CKW': 42, 'KWA': 42, 'WAR': 980, 'DS.': 197, 'ENI': 380, 'LIZ': 64, 'HTL': 43, 'CCI': 67, 'H D': 249, 'ESI': 470, 'EMO': 248, 'DAZ': 9, 'AZZ': 11, 'SPR': 136, 'RRO': 323, 'ROR': 219, 'UPE': 157, 'PEF': 29, 'EFA': 35, 'K P': 46, 'UL.': 63, 'A K': 80, 'NOC': 85, 'R K': 88, 'I J': 8, 'UP.': 39, 'ET.': 104, 'APA': 127, 'PAB': 41, 'E J': 197, 'NEY': 200, 'EY.': 61, 'HEC': 27, 'ECK': 133, 'OP ': 143, 'P H': 111, 'NNO': 224, 'ALR': 158, 'LRE': 157, 'UD.': 19, 'LAM': 176, 'P B': 75, 'WRE': 148, 'DE.': 107, 'NDL': 142, 'VID': 237, 'W C': 160, 'LK.': 14, 'ALG': 4, 'LGE': 22, 'GEB': 1, 'AIC': 5, 'LCU': 42, 'XIO': 46, 'ESH': 144, 'AIS': 174, 'EWR': 3, 'NS.': 217, 'N Y': 298, ' EL': 290, 'LAP': 74, 'PSE': 66, 'UTI': 265, 'ETS': 180, 'WAV': 73, 'ASL': 27, 'SOF': 67, 'OFA': 4, 'FA.': 1, 'A. ': 259, 'AWO': 26, 'WOK': 30, 'PAL': 151, 'LID': 73, 'FEV': 15, 'FLU': 101, 'EKS': 41, 'TIG': 82, 'RGO': 76, ' DU': 304, 'DUR': 180, 'SUF': 237, 'UFF': 282, 'RCO': 46, 'FOC': 10, 'CUS': 150, 'HEL': 365, 'MAI': 248, 'TST': 26, 'OLC': 66, 'LCA': 71, 'RIF': 108, 'FE.': 65, 'SUI': 43, 'IDA': 41, 'DAL': 75, 'UCT': 135, 'AG ': 51, 'CRO': 238, 'RMS': 155, 'SMO': 60, 'MOK': 25, 'AK.': 38, 'GO ': 353, 'KET': 375, ' ER': 125, 'KEY': 86, 'PUR': 240, 'RPO': 88, 'ECO': 604, 'TYR': 10, 'YRS': 3, 'FRI': 412, 'HTF': 59, 'FED': 24, 'GAV': 197, 'MP ': 70, 'P E': 29, 'AKF': 26, 'KFA': 26, 'ELD': 256, ' YI': 25, 'YIE': 24, 'IEL': 101, 'SK.': 13, 'OT.': 109, ' SK': 193, 'SKI': 118, 'KIE': 6, 'G N': 133, 'NSA': 61, 'RD.': 115, 'GIG': 36, 'IGA': 85, 'C H': 12, 'HOA': 14, 'OAX': 2, 'AX.': 3, 'X. ': 65, 'K F': 101, 'NYT': 95, 'YTH': 307, 'O Q': 31, 'UIX': 1, 'IXO': 1, 'XOT': 1, 'KEL': 58, 'RVA': 167, 'NFL': 62, 'UEN': 162, ' DW': 64, 'DWE': 36, 'AT.': 72, 'ETO': 53, 'CS ': 61, 'M U': 73, 'ODD': 66, 'XPR': 125, '. R': 67, 'RWA': 147, 'UTC': 41, 'RM ': 276, 'OGA': 12, 'GAT': 149, 'NOD': 49, 'NCR': 96, 'EDU': 93, 'DUL': 66, 'UG ': 28, ' TU': 408, 'EL.': 49, 'NAC': 50, 'POK': 151, 'KE.': 60, 'WL ': 31, 'OU.': 95, 'U. ': 97, 'F Y': 267, 'U R': 76, 'EFT': 213, 'FT ': 428, 'M R': 66, 'AMA': 95, 'MAZ': 27, 'AZE': 88, 'ZEM': 10, ' OH': 136, 'OH ': 139, 'CUN': 16, 'UNN': 147, 'NNI': 142, 'CKH': 3, 'KHE': 1, 'GAZ': 64, 'HAG': 18, 'AGG': 91, 'GGA': 60, 'YE ': 761, 'IIN': 1, 'SNE': 121, 'YOC': 4, 'M K': 14, 'KEM': 1, 'M D': 93, 'LIB': 122, 'IBA': 18, 'BAT': 90, ' UM': 2, 'MBR': 42, 'S J': 114, 'JUL': 22, 'LII': 15, 'II ': 15, 'NDA': 160, 'DAS': 23, 'SCE': 273, 'AUD': 48, 'UDA': 13, ' ET': 141, 'RUM': 113, '. K': 10, 'KOD': 1, 'CI.': 4, 'DOG': 77, 'OG ': 67, ' KA': 4, 'KAL': 2, 'F J': 75, 'DAC': 17, 'RAV': 296, 'VEL': 370, 'H J': 38, 'OY.': 27, 'SFA': 47, 'OKS': 78, ' UT': 139, 'EXH': 55, 'XHA': 35, 'HAU': 73, 'AUS': 461, 'ATS': 116, 'DOE': 135, 'OES': 200, 'RTM': 30, 'TMA': 21, 'EAU': 106, 'AU ': 8, 'DY.': 59, 'C R': 15, 'RGU': 33, 'DIR': 169, 'R R': 311, 'SFI': 43, 'SOO': 270, '. D': 229, 'EPA': 207, 'GAY': 11, 'ERW': 133, 'RWI': 70, 'XCL': 49, 'SIV': 122, 'NRY': 14, 'U T': 274, 'DRO': 159, 'DUT': 46, 'UTY': 62, 'LOR': 194, 'U M': 175, 'ENV': 58, 'C D': 13, 'RER': 185, 'ITO': 41, 'EAM': 254, 'PIL': 76, 'ILG': 1, 'LGR': 7, 'GRI': 105, 'PUB': 99, 'AX ': 20, 'X I': 28, 'I U': 77, ' UR': 20, 'ORO': 106, 'GHL': 50, 'HLY': 82, 'OMY': 48, 'COW': 59, 'RME': 260, 'LTS': 24, 'SMI': 137, 'CIS': 113, 'UGU': 34, 'GUS': 86, 'TUS': 29, 'LEI': 20, 'EIP': 4, 'IPZ': 1, 'PZI': 1, 'ZIG': 4, 'IG ': 76, 'MAP': 16, 'AP.': 15, 'ATL': 32, 'TLA': 24, 'S Z': 39, ' Z ': 1, 'Z P': 2, 'E .': 15, 'SET': 277, 'BTS': 11, 'LTI': 128, 'PE ': 369, 'OOP': 43, 'ISL': 225, 'NOE': 27, 'LOF': 64, 'GIO': 109, 'C E': 12, 'ERU': 47, 'RUP': 132, 'UPT': 137, 'CEB': 4, 'EBO': 34, 'CAV': 294, 'RNS': 46, 'S Q': 128, 'WES': 109, 'COA': 169, 'OAS': 54, 'REY': 76, 'EYK': 22, 'YKJ': 20, 'KJA': 22, 'JAV': 19, 'VIK': 19, 'IK ': 14, 'API': 125, 'PIT': 275, 'NNU': 24, ' FJ': 11, 'FJO': 14, 'JOR': 20, 'XTY': 11, 'DEG': 123, 'EGR': 128, 'HIG': 453, 'BON': 73, 'RKA': 27, 'KAB': 42, 'HOC': 22, 'LAV': 94, 'AVA': 105, 'VA ': 48, 'ROC': 325, 'XTI': 23, 'NCT': 149, 'URF': 66, 'RFA': 64, 'BSC': 34, 'SCU': 120, 'GHW': 8, 'HWA': 24, 'W F': 116, 'JUN': 43, 'ADO': 153, 'RYT': 171, 'CCE': 152, 'NYO': 35, 'YON': 156, 'LSE': 175, 'PRA': 200, 'L K': 65, 'NCA': 23, 'GOL': 143, 'BOY': 104, 'NYB': 6, 'YBO': 15, 'BOD': 311, 'ODY': 256, 'THS': 219, 'MOD': 125, 'ODE': 145, 'PLO': 137, 'LOD': 31, 'EXI': 149, 'XIS': 116, 'H Y': 177, 'TIP': 27, 'IPL': 72, 'PPR': 181, 'OAC': 91, 'UMI': 65, 'H U': 162, 'UCC': 108, 'ECY': 13, 'THU': 1276, 'HUS': 1313, 'MEM': 207, 'BAN': 128, 'NKS': 69, 'ELB': 9, 'LBE': 9, 'SOB': 12, 'NSE': 375, 'DMA': 17, 'DEU': 10, 'EUR': 141, 'FF.': 26, 'AFR': 41, 'SIA': 50, 'IAS': 51, 'ASM': 32, 'SM ': 69, 'OOL': 209, 'OL.': 16, 'PAC': 87, 'HTM': 6, 'MEE': 79, 'AWE': 52, 'T J': 72, 'GG.': 15, 'I G': 137, 'LAW': 288, 'AWS': 83, 'WSO': 2, 'NVY': 27, 'RKM': 12, 'KME': 8, 'CKI': 72, 'U B': 98, 'G Y': 77, 'AIL': 333, 'ARP': 80, 'BAG': 24, 'TUG': 8, 'U G': 56, 'ROL': 104, 'UNF': 61, 'RTU': 523, 'TUN': 235, 'OY ': 196, 'OMO': 43, 'AYB': 3, 'YBR': 2, 'EDC': 4, 'DCH': 4, 'RNO': 88, 'NOO': 91, 'ORC': 245, 'GOU': 14, 'MPS': 33, 'OWB': 15, 'WBA': 15, 'LPE': 9, 'TOC': 32, 'CKA': 13, 'KAX': 10, 'AXE': 24, 'XES': 36, 'EVO': 129, 'OCA': 68, 'CAB': 90, 'WIF': 93, 'K R': 19, 'EYS': 66, 'PAU': 37, 'URO': 95, 'LIM': 183, 'IMB': 98, 'LTO': 46, 'UBU': 4, 'URB': 48, 'RB ': 18, 'B O': 12, 'RG ': 100, 'ILW': 3, 'LT.': 30, 'OLS': 57, 'LST': 28, 'RIA': 226, 'IAG': 79, 'LUG': 38, 'GAG': 49, 'GHE': 357, 'VAN': 296, 'STC': 5, 'TCL': 1, 'OO ': 399, 'BUS': 92, 'USY': 21, 'PAV': 4, 'GOV': 84, 'CUP': 101, 'UPA': 8, 'SLI': 133, 'OTO': 29, 'US.': 188, 'NSF': 25, 'SFE': 2, 'BAY': 16, 'NGT': 181, 'GTH': 179, 'BOA': 141, 'K N': 61, 'EEZ': 33, 'EZE': 28, 'ZE ': 116, 'HTH': 20, 'KOR': 12, 'ENH': 25, 'SHM': 85, 'HUR': 80, 'CTO': 165, 'TIQ': 10, 'SCH': 344, 'HOO': 404, 'LKY': 8, 'KYR': 13, 'YRI': 42, 'IEI': 6, 'IK.': 5, ' M.': 28, ' BJ': 5, 'BJA': 4, 'JAR': 7, 'RGY': 16, 'VOY': 91, 'OYA': 140, 'YAG': 86, 'DVA': 142, 'TAG': 96, 'TUE': 268, 'ESD': 33, 'SDA': 39, 'PTS': 28, 'L G': 149, ' NY': 2, 'NYE': 1, 'RW ': 1, 'IFU': 75, 'RID': 241, 'IDG': 54, 'ALD': 25, 'LDS': 120, 'DSE': 3, 'DEO': 23, 'EOU': 95, 'NAV': 24, 'STL': 109, 'ENB': 100, 'NBE': 107, 'NON': 110, 'CIP': 131, 'IPA': 60, 'HS.': 23, 'GUL': 107, 'TUA': 181, 'UAT': 96, 'M F': 167, 'OAT': 233, 'KYA': 1, 'UAY': 1, 'ICO': 14, 'RKI': 36, 'SKM': 1, 'KMA': 7, 'KIR': 15, 'IRK': 5, 'CHU': 16, 'URC': 51, 'XHI': 9, 'HIB': 12, 'LEV': 115, 'EVA': 72, 'ATF': 5, 'TFO': 9, 'RCA': 105, 'MIT': 327, 'ASC': 108, 'MB ': 59, 'B C': 4, 'DIZ': 3, 'IZZ': 8, 'ZZI': 8, 'ZIN': 43, 'U O': 59, 'LUA': 30, 'UAB': 21, 'SPU': 38, 'I Y': 23, 'OAN': 27, 'PAY': 39, 'AYM': 16, 'YME': 55, 'OLB': 7, 'LBO': 11, 'TSI': 30, 'SWI': 60, 'WIM': 19, 'EAG': 182, 'AGL': 41, 'SOA': 16, 'ADL': 89, 'UPW': 57, 'PWA': 57, 'F D': 305, 'PAI': 212, 'RVO': 21, 'VOU': 192, 'SYS': 24, 'SKY': 76, 'HIP': 204, 'IP.': 21, 'EGS': 64, 'NKE': 108, 'NEE': 194, 'ULE': 83, 'SLO': 113, 'WLY': 67, 'WLI': 19, 'NAK': 51, 'N K': 59, 'ABY': 67, 'BYS': 53, 'YSS': 44, 'HIV': 28, 'UDS': 46, 'OPT': 19, 'ELU': 29, 'COC': 47, 'FTL': 21, 'SSY': 8, 'SLU': 20, 'EYO': 102, 'OWD': 74, 'WDE': 52, 'EDE': 132, 'C P': 40, 'MA.': 8, 'EDY': 40, 'SPI': 563, 'UR.': 65, 'BOS': 13, ' RH': 13, 'RHE': 24, 'HEU': 4, 'PTH': 76, ' MR': 426, 'MR.': 193, 'PSO': 7, 'RSS': 2, 'DJU': 9, 'JUT': 3, 'UTO': 28, 'AYO': 4, 'YOR': 4, 'IP ': 164, 'EI.': 4, 'LUO': 13, 'UOU': 83, 'ANV': 2, 'NVA': 50, 'NEL': 104, 'ENM': 9, 'NMA': 7, ' GH': 20, 'GHO': 21, 'AML': 4, 'MLE': 19, 'BTL': 40, 'OCE': 195, 'CEE': 123, 'W U': 65, 'ROI': 11, 'F K': 41, 'KRO': 2, 'ONB': 1, 'NBO': 21, 'URK': 11, 'RKY': 2, 'ATM': 48, 'TMO': 72, 'SPH': 63, 'INB': 15, 'ZES': 9, 'KAT': 3, 'TY.': 244, 'OAL': 69, 'KIP': 4, 'IPP': 80, 'ROE': 11, 'OE ': 68, 'SKA': 2, 'KAG': 3, 'RNM': 26, 'NMO': 13, 'RAK': 2, 'GUT': 97, 'ESN': 13, 'AS.': 48, 'COT': 39, 'OTL': 23, 'RKN': 29, 'HET': 248, 'ETL': 51, 'HIF': 26, 'FTI': 24, 'MYG': 1, 'YGA': 1, 'NOY': 20, 'YAN': 22, 'SIC': 118, 'M Q': 7, 'NSP': 57, 'RT.': 105, 'MYR': 6, 'YRD': 1, 'RDA': 63, 'YOK': 4, 'OKU': 1, 'KUL': 9, 'DIL': 87, 'EER': 93, 'STW': 23, 'TWA': 49, 'VAU': 21, 'FOA': 19, 'OAM': 19, 'POU': 72, 'STM': 8, 'JAN': 5, 'ISG': 78, 'SGU': 70, 'VIG': 27, 'SAF': 46, 'AFE': 52, 'FAX': 3, 'AXA': 5, 'XA ': 3, 'ERD': 116, 'NLA': 26, 'BEH': 221, 'EHO': 120, 'LIP': 140, 'IPS': 112, 'KLY': 66, 'SOI': 63, 'IRL': 80, 'COS': 31, 'TUM': 54, 'CIV': 40, 'GIS': 39, 'N Q': 31, 'CIF': 24, ' EP': 18, 'PIS': 66, 'OPA': 19, 'IOC': 7, 'DEF': 142, 'IDR': 15, 'IKS': 14, 'KSS': 15, 'OLA': 135, 'SAV': 132, 'DDR': 29, 'GOE': 57, 'SS.': 234, 'IBR': 16, 'KEW': 57, 'BOV': 209, 'OAK': 14, 'RSH': 29, 'SHY': 16, 'EA.': 64, 'GUN': 29, 'UNB': 31, 'TEC': 74, 'UNS': 99, 'LEL': 26, 'HUT': 46, 'AMS': 65, 'U F': 63, 'CA.': 6, 'LAK': 27, 'NAG': 86, 'NGA': 41, 'ISM': 85, 'GHF': 3, 'HFA': 4, 'RF ': 31, 'KIT': 21, 'ITC': 84, 'TOE': 8, 'ABB': 51, 'BBA': 7, 'TTU': 1, 'TUC': 16, 'DIM': 54, 'SUG': 54, 'IPU': 34, 'RCI': 43, 'CIA': 236, 'C C': 33, 'CEM': 36, 'GSI': 8, 'BUI': 89, 'UIL': 158, 'ILT': 174, 'TYL': 82, 'YLE': 78, 'LCI': 4, 'NEN': 53, 'OL ': 114, 'TAU': 61, 'W E': 45, 'SH.': 67, 'TE.': 127, 'VEG': 23, 'AKS': 30, 'OFS': 20, 'FS ': 38, 'HAY': 21, 'XCU': 32, 'RSI': 69, 'WD ': 28, 'DRY': 35, 'RYI': 60, 'COD': 16, 'ODF': 2, 'DFI': 1, 'XPO': 24, 'OBU': 7, 'MIE': 57, 'XIL': 9, 'ESK': 18, 'KIM': 2, 'IMO': 21, 'UNH': 35, 'PPY': 71, 'PY ': 92, 'RCL': 23, 'NVU': 25, 'VUL': 45, 'ULS': 95, 'APO': 75, 'VAD': 15, 'HOE': 56, 'MOC': 49, 'RNF': 10, 'NFU': 68, 'AGR': 143, 'EEA': 32, 'UNM': 26, 'KNI': 28, 'NDK': 18, 'DKE': 18, 'IE ': 178, 'RF.': 2, 'IPB': 1, 'PBO': 11, 'ULF': 19, 'ENJ': 54, 'NJO': 57, 'EGG': 74, 'PTY': 30, 'UPB': 22, 'IBU': 60, 'WID': 64, 'UCA': 27, 'PEO': 336, 'EOP': 339, 'OPL': 338, 'NRO': 6, ' EU': 86, 'MIA': 11, 'IAB': 42, 'U E': 39, 'UNW': 29, 'NWI': 21, 'UNV': 4, 'VEI': 36, 'EIL': 29, 'ROJ': 145, 'OJE': 145, 'K Y': 83, 'GUI': 238, 'UIS': 115, 'C S': 42, 'SEW': 14, 'ESY': 9, 'CLY': 6, 'RNT': 36, 'NGM': 5, 'GMA': 36, 'RMU': 44, 'SM.': 9, 'TWI': 96, 'NKN': 36, 'MOV': 162, 'RIZ': 51, 'IZO': 41, 'ZON': 42, 'DUG': 11, 'NAI': 25, 'FEI': 11, 'EIS': 27, 'RTF': 10, 'MAC': 74, 'MEP': 2, 'B T': 27, 'I V': 30, 'NYI': 3, 'OFI': 19, 'ONY': 66, 'NO.': 59, 'U P': 63, 'UID': 138, 'MEB': 9, 'EWD': 13, 'M Y': 56, 'TOD': 17, 'EID': 21, 'LEP': 48, 'UDL': 9, 'OM.': 106, 'Y Q': 39, 'THL': 40, 'HLE': 26, 'LM ': 57, 'PHL': 7, 'EGM': 5, 'DOL': 34, 'ANQ': 22, 'NQU': 124, 'ERB': 40, 'RBI': 46, 'BIA': 8, 'UIE': 76, '. J': 78, 'JUD': 89, 'UDG': 85, 'DGI': 14, 'USP': 94, 'GAM': 24, 'LTH': 245, 'FEM': 46, 'LFS': 6, 'DO.': 34, 'OB ': 13, 'B H': 8, ' EG': 46, 'P R': 24, 'LOP': 65, 'FFS': 13, 'SOW': 10, 'HMA': 15, 'JEL': 1, 'ELK': 1, 'SEQ': 72, 'EQU': 336, 'MPU': 53, 'PI ': 8, 'YS.': 48, 'NIM': 273, 'GEM': 28, 'REQ': 136, 'FIX': 69, 'IXE': 64, 'XED': 88, 'RIX': 5, 'X D': 12, 'WOP': 1, 'CY.': 24, 'M E': 63, 'ATY': 6, 'DUS': 48, 'VOT': 39, 'NUF': 11, 'UFA': 11, 'IGR': 7, 'GEL': 26, 'HOT': 86, '. .': 162, 'CHR': 63, 'BOI': 23, 'OIS': 247, 'ENW': 6, 'WIC': 78, 'DIP': 9, 'RUH': 10, 'UHM': 10, 'HMK': 10, 'MKO': 10, 'ORF': 11, 'RFF': 10, 'CTR': 98, 'OBT': 36, 'BTA': 28, 'OLT': 53, 'LTA': 20, 'C B': 18, 'ETR': 118, 'NI ': 7, 'GAS': 39, 'SI.': 1, 'ILK': 59, 'MAB': 14, ' H.': 2, ' D.': 3, 'UIN': 104, 'INQ': 71, 'NIA': 44, 'M V': 22, 'A I': 121, 'LVI': 41, 'X S': 9, 'ULM': 4, 'LMI': 10, 'TTO': 102, 'XPA': 9, 'NPO': 9, 'LPI': 21, 'A Q': 49, 'UAN': 37, 'CUI': 18, 'X M': 10, 'LIQ': 46, 'EDA': 18, 'DAM': 110, 'AM.': 27, 'OP.': 11, 'WNW': 38, 'NWA': 61, 'GEA': 22, 'CET': 46, 'IA ': 114, 'LCO': 36, 'COH': 3, 'OHO': 1, 'C V': 5, 'NEG': 18, 'ODL': 26, 'SKS': 9, 'BOX': 92, 'OXE': 13, 'OX.': 6, ' EQ': 117, 'UIP': 7, 'IPM': 4, 'PME': 17, 'OCT': 87, ' HY': 36, 'HYA': 1, 'YAL': 47, 'MIO': 3, 'IOF': 1, 'WAK': 100, 'ROK': 106, 'X O': 48, 'RFO': 49, 'UAC': 3, 'ACU': 43, 'UNQ': 5, 'IAM': 33, 'UAM': 1, 'CHS': 20, 'HSO': 12, 'SOE': 11, 'OEV': 44, 'XER': 33, 'PIR': 345, 'ISK': 46, 'B A': 29, 'NEO': 21, 'SAG': 124, 'EHI': 102, 'IGO': 28, ' SQ': 69, 'SQU': 79, 'EOG': 4, 'DIV': 173, 'THW': 23, 'HWE': 5, 'UDV': 1, 'TR ': 1, 'RDU': 7, 'DUN': 10, 'GR.': 2, 'FFO': 67, 'IML': 10, 'FOG': 7, 'OGS': 29, 'CUO': 3, ' JA': 89, 'JAG': 4, 'EEF': 6, 'EFS': 4, 'UAI': 25, 'GNS': 52, 'ELP': 129, 'LP ': 92, 'BIG': 78, 'OUC': 90, 'X F': 16, 'AUR': 17, 'EBE': 22, 'RGS': 2, 'OPS': 53, 'BIO': 11, 'FET': 39, ' AH': 182, 'AHE': 18, 'AGM': 30, 'GME': 55, 'LMS': 17, 'CKL': 90, 'HEP': 24, 'CK.': 84, 'RAY': 140, 'UPH': 13, 'OID': 62, 'VEM': 30, 'AYE': 187, 'YER': 124, 'BAS': 75, 'EPU': 40, 'LOM': 10, 'HAO': 3, 'AOS': 3, ' AO': 2, 'AOA': 2, 'RKJ': 2, 'JA ': 5, 'UGA': 13, 'G K': 17, ' HV': 3, 'HVA': 3, 'LFJ': 2, 'GM ': 1, 'NDY': 12, 'KOL': 1, 'LAF': 2, 'AFJ': 1, 'SIE': 77, 'FS.': 5, 'L J': 18, 'JUR': 59, 'ISD': 116, 'SDI': 4, ' EJ': 5, 'EJU': 11, 'ULB': 3, 'SAU': 30, 'BOE': 1, 'OER': 32, 'XIA': 2, 'IDT': 4, 'DTH': 43, 'SEP': 38, 'TUF': 10, 'FA ': 6, 'DDI': 42, 'HUE': 12, 'TEV': 70, 'RMY': 23, 'PT.': 16, 'H Q': 15, 'DEM': 162, 'IPC': 1, 'PCO': 1, 'KIC': 7, 'RDY': 9, 'ICR': 4, 'RHO': 21, 'SFO': 45, 'LRY': 1, 'ARJ': 1, 'RJA': 1, 'TID': 61, 'IDV': 1, 'BID': 52, ' EB': 23, 'BB ': 5, 'B N': 3, 'AWK': 17, 'WKW': 14, ' OA': 41, 'OCO': 47, 'ELC': 27, ' AX': 10, 'KSH': 3, 'OF.': 19, 'P V': 5, 'ODO': 45, 'DOR': 138, 'OLF': 4, 'LFA': 6, 'IMN': 20, 'MNE': 42, 'RLO': 25, 'KIS': 24, 'EK.': 4, 'USB': 55, 'SBA': 60, 'NET': 209, 'LDR': 119, 'PEE': 79, 'VAP': 40, 'K K': 5, 'SAE': 2, 'AEL': 5, 'LLV': 2, 'NOI': 79, 'RRU': 71, 'EEI': 51, 'OOS': 170, 'WSE': 1, 'UTR': 7, 'O J': 48, 'JUV': 3, 'UVE': 16, 'NIL': 7, 'BIE': 10, 'YR ': 1, 'NIP': 4, 'JUI': 7, 'RYB': 10, 'FOD': 2, 'BOG': 1, 'GGY': 4, 'IVU': 5, 'WET': 96, 'SWO': 30, 'WOL': 11, 'AGS': 15, 'EG ': 36, 'NIV': 33, 'TU.': 1, 'LSK': 1, 'HE.': 18, 'FFL': 41, 'EPR': 77, 'OSY': 18, 'ROH': 7, 'OHI': 5, 'NLI': 47, 'UFT': 6, 'FTS': 21, 'CKB': 4, 'KBE': 1, 'FTA': 3, 'PIK': 6, 'AUN': 40, 'FAY': 1, 'MYT': 5, 'WAM': 24, 'MPY': 4, 'LBT': 1, 'BT.': 9, 'VA.': 6, ' IH': 4, 'IHR': 1, 'RAU': 23, 'P C': 39, 'NA.': 7, 'WEP': 31, 'IRM': 89, 'BUD': 8, 'ESQ': 4, 'ODN': 11, 'ORH': 5, 'ONQ': 26, 'UER': 103, 'ESB': 6, 'SBY': 4, 'BYT': 4, 'YTE': 5, 'PI.': 3, 'YKI': 2, 'A E': 21, 'NEM': 112, 'EGU': 45, 'EOM': 6, 'G Q': 18, 'LOY': 70, 'OYE': 90, 'PLU': 44, ' PY': 12, 'PYR': 32, 'YRA': 17, 'BYL': 1, 'YLO': 2, 'RPA': 36, 'EWA': 58, 'C F': 18, 'UMN': 36, 'MNS': 13, 'UPR': 39, 'UTW': 18, 'TIB': 36, 'OEI': 1, 'APR': 14, 'DAG': 18, ' KY': 2, 'YRK': 2, 'RKO': 2, 'KOH': 2, 'OHE': 6, 'C K': 1, 'HOI': 31, 'KSM': 1, 'GYM': 2, 'YMA': 7, 'EKD': 1, 'KDA': 2, 'NME': 61, 'NAD': 12, 'DEQ': 4, ' L ': 1, ' S.': 4, 'RLI': 34, 'LML': 10, 'HRI': 71, 'BYR': 11, 'UBM': 33, 'BMI': 32, 'ADR': 14, 'OIT': 16, 'HYP': 20, 'YPO': 18, 'ISU': 22, 'RUD': 81, 'REJ': 53, 'EJO': 34, 'W V': 41, 'EPO': 64, 'LUI': 22, 'FUG': 17, 'WNC': 2, 'GUM': 22, 'MMS': 1, 'NHE': 23, ' D ': 7, 'IEU': 58, 'EU ': 7, 'DAB': 18, 'UPL': 24, 'OBB': 25, 'NNK': 1, 'UTL': 17, 'TLI': 43, 'KY.': 18, 'WE.': 5, 'AWF': 49, 'WFU': 61, 'FIB': 1, 'IDU': 29, 'DUU': 1, 'UUM': 2, 'LA.': 2, 'REO': 112, 'EOC': 4, 'TEX': 9, 'XTU': 13, 'CAK': 6, 'WS.': 32, 'AGO': 71, 'UTP': 2, 'TPO': 4, 'EJE': 17, 'MAM': 15, 'POC': 76, 'OCH': 19, 'DSP': 3, 'SYE': 6, 'YEN': 3, 'ORP': 374, 'RPH': 10, 'HYR': 2, 'RFL': 47, 'CKN': 40, 'HAF': 25, 'EWL': 7, 'K G': 17, 'SMS': 7, 'MS.': 50, 'VOM': 10, 'PUM': 5, 'HEV': 2, 'CCH': 1, 'TSH': 6, ' Q.': 1, 'Q.E': 1, 'E.D': 1, '.D.': 4, 'LDI': 73, 'UPU': 7, 'ISB': 9, 'SBU': 7, 'P L': 30, 'GO.': 27, 'BOL': 82, 'OMR': 8, 'MRA': 8, 'OWY': 5, 'WY ': 5, 'HTC': 2, 'TCA': 4, 'RBS': 13, 'B U': 4, ' GY': 2, 'YMN': 8, 'MNA': 17, 'BRU': 96, 'EGY': 3, 'GYP': 2, 'LEW': 30, 'OFV': 1, 'FVA': 1, 'ANF': 3, 'WOE': 38, 'OEB': 1, 'ULV': 2, 'RSP': 15, 'SAH': 4, 'AHA': 5, 'PAQ': 6, 'AQU': 10, 'NFA': 62, 'ROY': 124, 'IGT': 2, 'GT ': 2, 'RLW': 6, 'LWI': 6, 'MBS': 40, 'TEO': 18, 'A Z': 5, ' ZI': 4, 'IGZ': 3, 'GZA': 3, 'ZAG': 3, 'SP ': 20, 'GHA': 16, 'LDO': 35, 'ROZ': 10, 'MA ': 21, 'IPI': 20, 'PUD': 13, 'MAJ': 181, 'AJE': 174, 'JES': 177, 'LLT': 11, 'USN': 53, 'TOX': 13, 'OXI': 22, 'XIC': 13, 'HAZ': 16, 'AKU': 1, 'KUP': 1, 'GAP': 17, 'FUN': 49, 'UMF': 11, 'MFE': 10, 'NVO': 28, 'B L': 4, 'BAL': 65, 'BTF': 8, 'DDA': 7, 'DSC': 6, 'P D': 40, 'ISJ': 4, 'SJO': 3, 'DLO': 10, 'YAW': 15, 'AWN': 99, 'WNI': 18, 'TO.': 13, 'MY.': 18, 'RWH': 10, 'ELM': 15, 'CAG': 4, 'OMN': 6, 'MNO': 3, 'NOL': 6, 'SHU': 50, 'HUD': 18, 'YLU': 1, 'EXO': 11, 'XOR': 11, 'NUR': 47, 'WRA': 27, 'LEX': 32, ' AQ': 4, 'MIX': 32, 'IOG': 10, 'TUB': 11, 'UB.': 1, 'B. ': 19, 'CAD': 32, 'GOA': 50, 'ULG': 39, 'CST': 6, 'SY.': 14, 'ORU': 6, 'KLE': 47, 'SSN': 8, 'FT.': 29, 'RL ': 42, 'HYS': 137, 'YSI': 48, 'UTM': 33, 'OBV': 23, 'BVI': 23, 'UNR': 27, 'AIM': 88, 'NFR': 14, 'BUN': 31, 'MOA': 8, 'DEX': 18, 'BIC': 3, 'GIF': 34, ' AK': 1, 'AKT': 1, 'KT ': 1, 'LUR': 58, 'VET': 104, 'VY.': 10, 'XPI': 3, 'SIZ': 36, 'ZE.': 7, 'UMU': 17, 'DOT': 214, 'DAW': 27, 'HAW': 7, 'WKE': 1, 'LM.': 11, 'U K': 60, 'UBE': 17, ' AE': 4, 'AER': 2, 'NAU': 26, 'HUP': 1, 'THF': 57, 'HFU': 66, 'TEB': 7, 'FAH': 4, 'AHR': 4, 'HR.': 1, ' E.': 2, 'E.S': 1, '.S.': 8, 'S.E': 1, 'RYS': 21, 'RTZ': 3, 'TZ ': 3, 'Z A': 4, 'RGR': 6, 'IEG': 12, 'ONW': 10, 'OPR': 16, 'XIB': 4, 'AIG': 54, 'GIT': 38, 'H K': 32, 'AUM': 5, 'UGM': 1, 'YAK': 1, 'AKO': 1, 'KOU': 1, 'X T': 28, 'ITZ': 3, 'TZB': 1, 'ZBU': 1, 'BUH': 1, 'UHE': 1, ' WU': 1, 'WUR': 1, 'RTT': 3, 'ULP': 11, 'LPT': 3, 'DOP': 8, 'FOX': 3, 'BUB': 10, 'PHU': 3, 'NPL': 11, 'STN': 8, 'EOV': 16, 'ADF': 20, 'DFU': 21, 'RDO': 41, 'GGI': 27, 'DUO': 1, 'MP.': 9, 'LUB': 18, 'DGM': 24, 'COG': 51, 'OGN': 58, 'DUB': 9, 'UBI': 8, 'FUC': 2, 'UCU': 5, 'LYC': 4, 'YCO': 4, 'POD': 7, 'ACY': 23, 'OSU': 6, 'CEO': 9, 'OBI': 30, 'OLN': 9, 'LNE': 81, 'ABA': 38, 'RDL': 96, 'AXI': 21, 'XCH': 5, 'NSH': 16, 'RBL': 11, ' GN': 22, 'NAW': 25, 'RP ': 264, 'UGS': 25, 'XCA': 3, 'DUE': 22, 'VEH': 24, 'OPM': 18, 'PMO': 9, 'VIV': 30, 'VIF': 3, 'RFS': 2, 'EXU': 12, 'XUB': 6, 'IDO': 34, 'NUI': 30, 'OWH': 12, 'NMI': 9, 'AKA': 12, 'W K': 7, 'NRE': 9, 'NAY': 34, 'QUO': 17, 'UOR': 14, 'ALY': 28, 'LYZ': 3, 'YZE': 2, 'NIB': 22, 'P G': 14, 'GHS': 11, 'ANL': 38, 'IOT': 11, 'YE.': 16, 'SSR': 6, 'SRO': 3, 'SCL': 20, 'LAX': 11, 'BSI': 10, 'P J': 5, 'LPL': 9, 'U L': 56, 'LMN': 5, 'I Q': 12, 'U U': 23, 'MOL': 26, 'G J': 22, 'RHU': 5, 'VAB': 18, 'AZI': 21, 'OYM': 27, 'X W': 27, 'ENF': 6, 'IAD': 6, ' JE': 76, 'JET': 10, 'CA ': 9, 'Z T': 1, 'MN.': 3, 'NTN': 3, ' DY': 35, 'DYI': 37, 'KEF': 4, 'BUZ': 7, 'NIH': 11, 'IHI': 11, 'MB.': 5, 'EEB': 11, 'EBL': 14, 'EHA': 29, 'LME': 16, 'LIR': 7, 'WNH': 3, 'TOI': 16, 'SAS': 11, 'NOB': 108, 'OBO': 15, 'NUN': 8, 'X A': 31, 'UDN': 1, 'EF.': 18, 'XAL': 20, 'RMT': 15, 'MTH': 31, 'FAD': 6, 'LYB': 2, 'YBE': 3, 'PA.': 1, 'NKY': 2, 'NSB': 6, 'TSK': 1, 'DVI': 40, 'UN.': 21, 'AH ': 181, ' UL': 22, 'F Q': 22, 'NYW': 16, 'YWH': 21, 'RSD': 3, 'NUO': 12, 'URL': 15, 'AIA': 3, 'HAH': 4, 'CAF': 4, 'ALV': 10, 'GOS': 9, 'SIP': 9, 'OX ': 90, 'EWC': 1, 'WCA': 1, 'WNS': 26, 'LUK': 5, 'UKE': 10, 'AYI': 86, 'ADA': 65, 'RI.': 1, 'BBO': 6, 'EKI': 29, 'ODH': 2, 'DHU': 1, 'EDT': 11, 'SSF': 16, 'SFU': 16, 'PAG': 45, 'AFN': 1, 'FNE': 6, 'UOT': 3, 'INY': 23, 'DIU': 18, 'MOI': 50, 'OIR': 448, 'TAX': 17, 'KIL': 62, 'NDM': 19, 'REU': 58, 'EUN': 10, 'ULN': 44, 'CKO': 29, 'TI ': 9, 'INM': 21, 'UM.': 9, 'OWF': 16, 'LVA': 8, 'LDH': 10, 'DHO': 12, 'VOK': 10, 'BIF': 1, 'RSU': 64, 'UAD': 48, 'IE.': 20, 'FOS': 21, 'UGI': 5, 'NEB': 4, 'RYW': 13, 'AZA': 13, 'ZAR': 734, 'SEO': 11, 'UIV': 15, 'MEO': 18, 'EON': 57, 'HO.': 3, 'AFA': 6, 'TOK': 5, 'MAX': 17, 'XIM': 24, 'IMU': 12, 'MUM': 14, ' ..': 42, '...': 289, '.. ': 106, 'U .': 4, 'T .': 8, 'P .': 3, 'M .': 2, 'P Y': 34, 'P U': 30, 'Y .': 24, 'HY.': 12, 'UPY': 2, 'PY.': 11, 'KSG': 1, 'SGI': 1, 'NYS': 4, 'SIU': 2, 'IUS': 19, 'IOB': 2, 'NAF': 4, 'GMI': 3, 'ILV': 26, 'ENZ': 11, 'NZI': 1, 'ZIE': 1, 'AYL': 9, 'YLI': 13, 'LLN': 25, 'INJ': 33, 'NJU': 60, 'UNU': 25, 'ONJ': 62, 'ENY': 12, 'ITL': 32, 'ILM': 4, 'GID': 10, 'EBU': 15, 'BUL': 54, 'XCR': 8, 'RPI': 3, 'VEY': 27, 'VAC': 12, 'CUU': 1, 'MBO': 21, 'LDT': 2, 'DT ': 2, 'CHL': 13, ' OX': 9, 'OXY': 3, 'XYG': 1, 'YGE': 1, 'ONM': 7, 'POE': 72, 'OET': 98, 'BAH': 3, 'TEF': 21, 'P P': 24, 'OWT': 10, 'WTH': 12, 'TEU': 4, 'SAB': 14, 'LUV': 18, 'UVI': 23, 'GAC': 18, 'XAG': 5, 'BYG': 5, 'YGO': 6, 'JAW': 14, 'AWB': 4, 'WBO': 4, 'MEG': 8, 'VIU': 3, 'DSL': 4, '. Q': 9, 'RYL': 7, 'YLY': 7, 'MBA': 36, 'RAF': 110, 'COF': 73, 'DUP': 5, 'BEV': 3, 'CTF': 6, 'XEM': 8, 'TYI': 6, 'BTI': 7, 'JAM': 4, 'OGM': 5, 'HLA': 1, 'PIA': 5, 'SMU': 7, 'MSC': 3, 'ROX': 8, 'WAX': 6, 'XIN': 6, 'OYI': 23, 'EWO': 10, 'AIF': 3, 'IFS': 2, 'OSC': 4, 'DIB': 21, 'AFL': 1, 'EAW': 7, 'ENU': 45, 'GIR': 61, 'PHO': 28, 'LGA': 12, 'GAE': 3, 'AE ': 9, 'AWR': 100, 'ABN': 3, 'BNO': 2, 'NGD': 73, 'GDO': 73, 'EEW': 7, 'BAI': 14, 'UG.': 3, 'TA.': 6, ' PT': 3, 'RYC': 75, 'YCH': 80, 'CHT': 10, 'HLI': 7, 'CUV': 5, 'MIF': 3, 'RAZ': 12, 'ZIL': 2, 'IA.': 26, 'CHY': 5, 'HYD': 8, 'YDE': 6, 'NOP': 4, 'RHI': 5, 'ONK': 17, 'CTY': 1, 'YL ': 1, 'USK': 6, 'E Z': 141, ' ZO': 3, 'ZOO': 1, 'HYT': 4, 'NPE': 3, 'NEU': 5, 'NY.': 20, 'NAP': 17, 'LKS': 20, 'VEX': 13, 'ULK': 22, 'THD': 24, 'HDR': 23, 'PIO': 33, 'OOV': 5, 'RCT': 3, ' EH': 12, 'EH ': 13, 'IPW': 10, 'PWR': 10, 'IZI': 10, 'SCY': 4, 'CYL': 4, 'YBD': 1, 'BDI': 9, 'DUM': 11, 'B F': 5, ' TV': 1, 'HYO': 4, 'YOS': 4, 'OSA': 27, 'URU': 10, 'EMY': 72, 'SDO': 112, ' CY': 123, 'RO ': 33, 'MAE': 2, 'WO.': 9, 'NPA': 3, ' N.': 4, 'ITF': 7, 'FTN': 6, 'ABJ': 3, 'OLH': 1, 'LHA': 1, 'IHO': 7, 'OLM': 5, 'MEI': 3, 'GEY': 10, 'SSL': 20, 'CIB': 8, 'RPL': 37, 'LI ': 9, 'SYM': 37, 'YMP': 29, 'AEO': 2, 'TUU': 1, 'UUS': 1, 'XAS': 6, 'IEK': 4, 'OAP': 2, 'NEJ': 2, 'EJI': 1, 'JI ': 1, 'JOT': 3, ' RD': 1, 'BSH': 3, 'T.I': 1, 'TUI': 6, ' AZ': 6, 'AZU': 6, 'ZUR': 11, 'ULW': 3, 'OTB': 4, 'TBA': 2, 'RCY': 13, 'IXI': 8, 'XIT': 12, 'OUE': 2, 'UET': 16, 'AW.': 19, 'ITR': 7, 'ADH': 5, 'DHE': 7, 'GYR': 2, 'N .': 10, 'DAI': 24, 'AIE': 2, 'JOL': 7, 'WRU': 3, 'IPO': 3, 'HOV': 13, 'JOH': 199, 'OHA': 5, 'IGM': 25, 'ABU': 30, 'URV': 17, 'NWE': 2, 'APF': 1, 'PFA': 1, ' AJ': 2, 'AJA': 3, 'JAX': 2, 'EFY': 4, 'LTR': 15, 'AYT': 15, 'UNY': 2, 'BNE': 2, 'EGL': 9, 'ITN': 44, 'UBO': 6, 'OG.': 3, 'BOB': 3, 'XAN': 3, 'AGH': 1, 'SKU': 9, 'ILN': 2, 'EDW': 13, 'DWA': 38, 'FAG': 3, 'UIG': 2, 'SRS': 3, 'BUC': 11, 'AJO': 6, ' TY': 60, 'TYP': 53, 'YPE': 55, 'TZE': 2, 'ZER': 4, 'ELG': 16, 'LGI': 18, 'GIU': 2, 'DIW': 1, 'IWO': 1, 'ZAB': 4, 'AUX': 3, 'UX ': 7, 'X P': 7, 'XUL': 5, 'PUP': 12, 'RNU': 2, 'LMY': 1, 'LYS': 28, 'LIX': 10, 'PAM': 3, 'BOC': 1, 'GAU': 5, 'AUP': 1, 'EUC': 3, 'CHZ': 1, 'HZE': 1, 'WLS': 5, 'NBA': 2, 'RPS': 96, 'OWM': 6, 'WMA': 1, 'AUC': 10, 'OVO': 10, 'EKB': 1, 'KBO': 2, 'JAP': 50, 'HOF': 2, 'FFM': 2, 'FMA': 2, 'NNS': 1, 'B M': 5, 'B P': 3, 'LMA': 4, 'YEW': 1, 'EWS': 56, 'CYP': 2, 'YPR': 2, 'FUM': 8, 'APL': 9, 'YRT': 1, 'EAE': 1, 'W Z': 8, ' ZE': 15, 'ZEA': 10, 'KAU': 1, 'IO ': 2, 'TEH': 3, 'C Q': 1, 'PUS': 20, 'EUS': 6, ' IP': 2, 'C Y': 3, 'BUF': 21, 'LO ': 51, 'TET': 186, 'GGR': 7, 'NLO': 14, 'U Q': 4, 'ONZ': 1, 'NZE': 1, 'UEI': 2, 'FOE': 16, ' A.': 13, 'NIU': 15, 'NCU': 12, 'NHO': 9, 'NWO': 7, 'LFE': 3, 'KOE': 1, 'OEN': 2, 'OML': 4, 'THQ': 11, 'HQU': 11, 'UAK': 13, 'NJE': 39, 'RLP': 1, 'LPO': 1, 'NSV': 4, 'SVE': 1, 'X N': 2, 'LDY': 2, 'PAD': 12, 'RNN': 1, 'WOF': 2, 'EWN': 5, 'SHL': 14, 'FRY': 1, 'W J': 6, 'MEH': 5, 'UB ': 19, 'GUB': 2, 'UBR': 3, 'GIZ': 1, 'OAF': 1, 'WL.': 3, 'LFW': 3, 'FWA': 1, 'JER': 11, 'ERK': 13, 'EPY': 3, 'WSI': 3, 'DSH': 36, 'NBR': 4, 'USQ': 1, 'GRU': 34, 'WAG': 38, 'GI ': 2, 'TCO': 5, 'YMT': 1, 'MTO': 3, 'IAE': 3, 'TSB': 3, 'ULC': 9, 'YWA': 13, 'DUI': 1, 'EUV': 1, 'LUP': 20, 'ICY': 15, 'LAZ': 9, 'EJ ': 1, 'J S': 1, 'BAK': 3, 'EEH': 2, 'EDF': 6, 'DFO': 5, 'HWH': 2, 'POM': 6, 'DOV': 11, 'AI ': 1, 'NGY': 3, 'GYL': 1, 'ETN': 5, 'LI.': 8, 'OSM': 2, 'LOI': 14, 'NZA': 5, 'ZA ': 6, 'LTU': 11, 'DEB': 25, 'EBT': 5, 'AXW': 1, 'XWO': 1, 'BAF': 2, 'PSY': 10, 'RVY': 2, 'ABD': 1, 'NSG': 19, 'SGR': 27, 'USW': 1, 'LPS': 2, 'EBI': 7, 'TSO': 12, 'HDA': 1, 'K Q': 2, 'ILB': 3, 'LBY': 1, 'TYA': 3, 'HYM': 14, 'SOG': 1, 'SSP': 2, 'GAD': 16, 'L .': 6, 'OPY': 47, 'NDW': 10, 'DWR': 5, 'WKS': 1, 'D .': 11, 'NDN': 32, 'DEI': 8, 'EUG': 1, ' UG': 43, 'UGL': 43, 'MEF': 4, 'S..': 6, 'T..': 9, 'TAY': 27, 'YRE': 25, 'D..': 5, 'F Z': 43, 'NC ': 1, 'WEB': 17, 'EB.': 1, 'NTT': 7, 'TTH': 43, 'N..': 1, 'W..': 1, 'X U': 6, 'AMY': 5, 'OCR': 31, 'SWU': 5, 'WUN': 4, 'OWP': 1, 'WPA': 1, 'X L': 4, 'U..': 1, 'JEW': 20, 'DEW': 15, 'E..': 21, 'Y..': 2, 'NRI': 12, 'COB': 6, 'OBW': 6, 'BWE': 6, 'EBS': 8, 'OTC': 6, 'RFD': 1, 'SEH': 31, 'AEA': 3, 'HAC': 3, 'EB ': 8, 'UEE': 69, 'OUY': 91, 'UYH': 91, 'YHN': 90, 'HNH': 91, 'NHN': 91, 'HNM': 92, 'NM ': 19, 'TYS': 59, 'EOF': 76, 'OLP': 1, 'OXF': 1, 'XFO': 1, 'CHF': 7, 'YAH': 166, 'AHO': 168, 'NMS': 66, 'HFI': 1, 'VEE': 3, 'OLK': 3, 'SEX': 37, 'EX.': 5, 'OMU': 3, 'OBD': 7, 'NGN': 12, 'APU': 12, 'NML': 5, 'MLA': 6, 'JAB': 2, 'HUF': 1, 'IVO': 13, 'XAT': 8, 'NGH': 8, 'MSH': 3, 'OHN': 196, 'HN ': 151, 'EYD': 4, 'RAH': 2, 'WRY': 4, 'MRS': 237, 'DMU': 2, 'EWG': 1, 'WGA': 1, 'X Y': 5, 'WAP': 1, 'IEM': 2, 'AZY': 7, 'ZY ': 14, 'HEK': 3, 'NAH': 5, 'PEG': 2, 'EUP': 54, 'OLG': 8, 'LGO': 8, 'DEH': 2, 'EHU': 2, 'HUL': 7, 'OAV': 2, 'HOG': 9, 'GSH': 6, 'MEV': 1, 'LAH': 5, 'EMF': 1, 'CYS': 2, 'PEP': 2, 'AUB': 5, 'CKT': 9, 'KTH': 8, 'ODG': 25, 'RSC': 7, 'DYS': 11, 'SEB': 11, 'EBA': 26, 'ADT': 14, 'AWY': 27, 'WYE': 27, 'UA ': 2, 'TT ': 2, 'ENK': 2, 'X C': 5, 'X B': 16, 'EEV': 10, 'GNM': 1, 'ESM': 10, 'FOB': 5, 'NBU': 10, 'EZI': 5, 'DOS': 50, 'GN.': 6, 'YEO': 2, 'AZO': 3, 'ZOR': 2, 'SNU': 5, 'RLS': 17, 'ESA': 29, 'TSM': 9, 'ODM': 1, 'PAW': 14, 'GGO': 2, 'ALB': 6, 'LBA': 2, 'EVL': 1, 'VLA': 1, 'HEF': 4, 'CU ': 29, 'FAB': 10, 'IV.': 34, 'V. ': 63, 'DLI': 27, 'MSP': 5, 'KSA': 5, 'RR ': 5, 'GHN': 9, 'HNE': 35, 'HOB': 6, 'ISQ': 7, 'CU.': 3, 'NDF': 8, 'DFA': 9, 'X R': 5, 'FOM': 1, 'RSY': 2, ' V.': 11, 'SSS': 15, 'GLU': 67, 'UMG': 3, 'MGL': 4, 'LUF': 3, 'WAD': 17, 'CUD': 7, 'AWH': 5, 'PUI': 1, 'MIU': 2, 'C U': 4, 'IZU': 4, 'RGL': 9, 'IUR': 2, 'ABH': 6, 'BHO': 6, 'VI.': 34, 'XEN': 3, 'GEE': 5, 'DAP': 10, 'RPN': 2, 'PNE': 2, 'PSI': 8, ' VU': 13, 'BUY': 12, 'UYI': 5, 'KNA': 8, 'ILP': 1, 'LPA': 4, 'X E': 4, 'WME': 4, 'ADG': 1, 'TOY': 6, 'ETM': 2, 'EX ': 15, 'UNJ': 7, 'B I': 7, 'FOW': 4, 'TAF': 13, 'HEQ': 3, 'JEA': 31, 'ARQ': 3, 'RQU': 3, 'DUK': 2, 'VII': 62, 'IMT': 7, 'LAL': 2, 'LMU': 1, 'MUF': 1, 'OTW': 5, 'HST': 8, 'TC.': 9, 'AFO': 2, 'CAY': 8, 'ONU': 4, 'NHU': 5, 'UBD': 10, 'BDU': 10, 'SHN': 25, 'OBN': 2, 'NOX': 3, ' EW': 1, 'PTF': 1, 'HNN': 2, 'AG.': 1, ' ND': 1, 'MIZ': 3, 'PMA': 4, 'XT.': 5, 'CYT': 3, 'WIX': 21, 'RWO': 3, 'WOV': 3, 'BEM': 3, 'ILF': 15, 'LFU': 18, 'IGY': 6, 'UAS': 5, 'TOA': 9, 'DMO': 6, 'YSH': 5, 'HUZ': 2, 'ZZA': 5, 'ZAS': 1, 'B B': 5, 'EYH': 2, 'YHO': 4, 'PIM': 4, 'AMT': 7, 'MT ': 7, 'WIP': 8, 'SHF': 6, 'BY.': 18, 'CKC': 2, 'KCL': 1, 'ULU': 3, 'NIK': 1, 'UMD': 50, 'MDA': 50, 'LCL': 50, 'URH': 11, 'ACN': 3, 'CNU': 3, 'NUC': 5, 'PA ': 8, 'GIM': 3, 'NN ': 5, 'FOP': 2, 'NLU': 4, 'ZEL': 1, 'MPK': 1, 'PKI': 1, 'WIV': 6, 'RBR': 7, 'OED': 3, 'UYS': 1, 'RDR': 12, 'PHŒ': 1, 'HŒN': 1, 'ŒNI': 1, 'NIX': 2, 'EKL': 2, 'BRY': 1, 'RYO': 13, 'YO ': 2, 'URÆ': 1, 'RÆ ': 1, 'Æ A': 1, 'SOV': 5, 'MIM': 1, 'CUB': 4, 'B W': 12, 'SPS': 2, 'AGP': 1, 'GPI': 1, 'OMG': 1, 'TMI': 2, 'NSM': 3, 'CSO': 2, 'STB': 3, 'OTM': 8, 'JOB': 3, 'IPH': 4, ' JI': 6, 'JIG': 1, 'STH': 59, 'CIC': 1, 'H Z': 34, 'DVO': 17, 'ISY': 8, 'RFI': 13, 'XTO': 5, 'TIZ': 4, 'ASN': 14, 'STF': 20, 'OFU': 5, ' OO': 2, 'OOZ': 2, 'PIG': 7, 'ILC': 2, 'PSH': 3, 'AKY': 2, 'NSK': 2, 'HAE': 2, 'AET': 1, 'ALN': 13, 'LNI': 12, 'BI ': 15, 'BBD': 6, 'BDR': 6, 'IB ': 7, 'GGN': 20, 'PEW': 4, 'UY ': 5, 'OE.': 4, 'BS.': 8, 'FUE': 4, 'INW': 10, 'CYC': 3, 'YCL': 3, 'UTB': 6, 'TBO': 1, 'RP.': 35, 'ZOD': 1, 'TYM': 2, 'YMO': 6, 'TUH': 2, 'UH ': 1, 'UH.': 1, 'BTR': 8, 'MSY': 4, 'RIH': 1, 'IHE': 2, 'UCL': 1, 'LEU': 2, 'P Q': 5, 'OBG': 1, 'BGO': 1, 'GOB': 7, 'YTI': 2, 'XTA': 2, 'AXL': 4, 'XLE': 4, 'OO.': 16, ' B ': 3, 'B R': 1, ' C ': 6, ' E ': 5, ' F ': 2, ' G ': 3, ' H ': 1, 'WAF': 3, 'EYI': 9, 'FEB': 5, 'RUA': 5, 'UNO': 7, 'EYA': 1, 'RYM': 12, 'OTY': 5, 'CUC': 2, 'HIA': 121, 'TNU': 1, 'LKW': 1, 'KWO': 15, 'DYE': 1, 'YEI': 2, 'MUZ': 3, 'B S': 4, 'UEO': 1, 'YSY': 1, 'DLA': 2, 'ECC': 7, 'ETF': 7, 'IBN': 1, 'BNI': 1, 'GDE': 1, 'SOJ': 4, 'OJO': 4, 'UBA': 2, ' B.': 6, ' L.': 8, 'DA.': 3, 'IB.': 2, ' CÆ': 3, 'CÆS': 3, 'ÆSA': 3, 'PEY': 1, 'PH.': 6, 'RMN': 2, 'UMV': 1, 'MVI': 1, 'ISR': 4, 'SRE': 3, 'IDY': 2, 'DYM': 1, 'YMU': 1, 'HIU': 1, 'OTU': 2, 'VOG': 2, 'LYD': 1, 'YDO': 1, 'POX': 3, 'CKP': 6, 'KPO': 6, 'BAW': 3, 'AWD': 2, 'WDS': 3, 'ECD': 1, 'CDO': 1, 'ERJ': 6, 'RJU': 5, 'ATN': 23, 'DEJ': 5, 'POV': 13, 'TIU': 1, ' IX': 7, 'IX.': 30, 'AGD': 1, 'GDU': 1, 'UBH': 2, 'BH ': 2, 'OGD': 1, 'GDR': 2, 'KPL': 1, 'FFT': 2, 'QUU': 1, 'UUT': 1, 'BLH': 1, 'LHI': 2, 'IOP': 2, ' ML': 1, 'HNA': 6, 'T Z': 58, ' ZW': 1, 'ZWI': 1, ' TN': 1, 'TNO': 8, 'ODB': 2, 'DBA': 1, 'LKG': 1, 'KGU': 2, 'GUF': 1, 'FFH': 1, 'FH ': 1, 'SLH': 1, 'DLU': 1, 'SHT': 1, 'DWU': 1, 'WUL': 1, 'IRP': 2, 'RPU': 1, 'KLU': 1, 'R X': 39, ' X.': 5, 'LDB': 20, 'DBR': 22, 'YEB': 3, 'NKF': 6, 'KFU': 6, 'LKA': 1, 'NDC': 1, 'MSK': 1, 'KUD': 2, ' XI': 16, 'XI.': 17, 'D X': 1, ' XA': 1, 'HI ': 2, 'AC.': 1, 'OYN': 1, 'YNA': 3, 'EOD': 1, 'BAM': 1, 'FOY': 1, 'OGW': 1, 'GWO': 1, 'BAU': 66, 'JOC': 3, 'NM.': 1, ' HH': 5, 'HHU': 4, 'HUU': 4, 'UUN': 5, 'KLA': 1, 'NUZ': 1, 'WNN': 1, 'TLO': 5, 'WLF': 1, 'K V': 4, ' HL': 1, 'HLU': 1, 'NNH': 2, 'NH.': 2, 'THN': 2, 'ANH': 6, 'UML': 2, 'MLO': 2, 'WSU': 2, 'JAI': 2, 'LIH': 5, 'RDM': 3, 'GNN': 1, 'AYH': 2, 'YH ': 1, 'X G': 1, 'RSW': 8, 'FAW': 2, 'CUA': 3, 'UIO': 3, 'MNI': 12, 'INR': 1, 'MUD': 13, ' HN': 3, 'WDN': 1, 'COQ': 1, 'JAC': 7, 'CKD': 1, 'GEF': 9, 'LUH': 1, 'UHI': 1, 'MUH': 1, 'UHS': 1, 'LOE': 3, 'RBU': 3, 'HNI': 78, 'LYH': 1, 'YHA': 5, 'NH ': 1, 'XHO': 10, 'HNU': 2, 'NUW': 1, 'UWN': 1, 'HHN': 1, 'WHN': 1, ' YN': 2, 'YNL': 1, 'NLH': 1, 'LHM': 1, 'HMN': 1, 'MND': 1, 'WIH': 1, 'IHL': 1, 'HLM': 1, 'YNH': 1, 'LMH': 1, 'MHN': 1, 'NMR': 1, 'MRO': 1, 'OHL': 1, 'HLN': 1, 'LNW': 1, 'NW ': 1, ' NN': 1, 'NUH': 1, 'UHN': 1, 'HNO': 1, 'NOH': 2, 'KBI': 2, 'SOS': 1, 'OPK': 2, 'PKE': 2, 'KAR': 2, 'NHL': 1, 'HLO': 9, 'OAY': 1, 'AYN': 1, 'YN ': 21, 'NUY': 1, 'NYH': 1, 'JAH': 1, 'LLF': 3, 'LFI': 24, 'SBO': 4, 'DEZ': 2, 'EZ ': 6, 'Z H': 1, 'OV.': 1, 'WDI': 3, 'Z Y': 1, 'XII': 33, 'INX': 4, 'EMQ': 1, 'MQU': 1, 'BA ': 1, 'JOS': 1, 'TEZ': 1, 'Z O': 2, 'MMY': 3, 'DIQ': 1, 'R Z': 32, 'HNS': 15, 'BAZ': 3, 'ZAA': 3, 'UEF': 2, 'IEY': 1, 'RYY': 1, 'YYO': 2, 'LFR': 71, 'CYN': 116, 'YNT': 114, 'OTÉ': 1, 'TÉG': 1, 'ÉGÉ': 1, 'GÉE': 1, 'ÉE ': 1, 'CUE': 1, 'TAD': 17, 'GSM': 4, 'AFI': 1, 'YNI': 1, 'OUV': 12, 'SYC': 7, 'YCA': 2, 'HN.': 24, 'TAW': 2, 'WNY': 2, 'EXQ': 2, 'XQU': 2, 'DYA': 2, 'OSB': 1, 'SBI': 1, ' FÊ': 1, 'FÊT': 1, 'ÊTE': 2, 'ISN': 22, 'SNT': 40, 'SMY': 3, 'NEZ': 2, 'THC': 1, 'HCO': 1, 'WD.': 1, 'LYN': 21, ' LL': 1, 'OYD': 3, 'YDS': 1, 'BBY': 3, 'MEY': 4, 'GSC': 1, 'MBF': 5, 'BFO': 5, 'ODW': 2, 'YD ': 1, 'TNT': 1, 'SHS': 14, 'DR.': 62, 'AUE': 77, 'V.A': 2, '.A.': 3, 'A.D': 2, 'PTL': 8, 'P K': 6, 'U Y': 43, 'DOH': 2, 'OHH': 1, 'HHE': 1, 'EYV': 6, 'YVE': 6, 'AIK': 13, 'ESW': 3, 'EYR': 3, 'EYL': 3, 'RWR': 1, 'ILH': 1, 'LHE': 3, 'BYE': 3, 'AKD': 1, 'KDO': 1, 'GIP': 3, 'PTN': 1, 'TLL': 2, 'OEM': 3, 'UX.': 2, 'IBS': 6, 'RDT': 6, 'DIH': 1, 'UDO': 28, 'AF.': 1, 'GOW': 1, 'LWH': 1, 'OWV': 1, 'WVE': 1, 'KEI': 4, 'CKG': 5, 'KGR': 4, 'SKL': 13, 'HTO': 4, 'SYG': 1, 'CHN': 77, 'NBY': 3, 'GSU': 1, 'EVU': 2, 'LP.': 3, 'MI.': 6, 'OUF': 2, 'UFH': 1, 'FHE': 2, 'PUF': 4, 'HBL': 1, 'GA ': 3, 'GTR': 1, 'SYO': 3, 'CHÂ': 2, 'HÂT': 2, 'ÂTE': 2, '. Ç': 1, ' ÇA': 2, 'ÇA ': 2, ' Y ': 2, 'ATB': 2, 'TBL': 2, 'TCE': 1, 'CIG': 5, 'DJA': 1, 'SSH': 6, 'KEH': 1, 'TAH': 1, 'ILÀ': 4, 'LÀ ': 7, 'À U': 2, 'OAW': 1, 'NKR': 1, 'KRU': 1, 'LYE': 1, 'YEV': 1, 'OA ': 26, 'LLB': 6, 'LBU': 8, 'OA.': 4, 'RL.': 2, 'DDO': 2, 'YMM': 1, 'IDB': 1, 'DBU': 5, 'IRN': 1, 'RDB': 3, 'DBO': 3, 'SKN': 1, 'HTW': 5, 'TWH': 4, 'TOV': 1, 'U V': 6, 'EJA': 2, 'À I': 2, 'OMT': 4, 'YBU': 3, ' LÀ': 3, 'À L': 1, 'À T': 1, ' FÂ': 1, 'FÂC': 1, 'ÂCH': 1, 'HEZ': 1, 'AYA': 4, 'VEB': 2, 'MSO': 3, 'PYI': 6, 'BUO': 4, 'UOY': 4, 'NGV': 3, 'GVE': 2, 'FFN': 5, 'NPU': 1, 'RUF': 9, 'NX ': 3, 'GUO': 1, ' TÊ': 1, 'TÊT': 1, 'CRÉ': 2, 'RÉ ': 2, 'É M': 1, 'YPI': 2, 'RMR': 1, 'R.E': 1, '.ER': 1, 'ATP': 1, 'TPA': 4, 'EPM': 8, 'NUL': 2, 'LYW': 3, 'YWE': 11, 'CEW': 3, 'OKC': 1, 'KCA': 1, 'BNA': 1, 'WA ': 1, 'CTB': 1, 'TBU': 12, 'LYA': 6, 'YAS': 1, 'WMY': 1, 'HSH': 5, 'RYE': 2, 'OOH': 1, 'GYB': 1, ' IW': 2, 'IWH': 1, 'LYM': 2, 'YMI': 1, 'EDB': 1, 'TFA': 3, 'BUK': 3, 'À B': 1, 'TSN': 1, ' S ': 1, 'WOC': 1, 'RSF': 1, 'OTP': 5, 'TPR': 1, 'EDH': 2, 'DHA': 4, 'TYE': 2, 'RYA': 3, 'YA ': 4, 'LYT': 6, 'LYO': 2, 'YOF': 1, 'DNO': 4, 'OWW': 3, 'WWH': 1, 'OUM': 2, ' AY': 7, 'PIQ': 1, 'HUC': 1, 'YZI': 1, 'LKT': 3, 'KTA': 4, 'HIZ': 5, 'UTD': 2, 'TDO': 1, 'EPD': 1, 'PDO': 1, 'YI ': 6, 'É H': 1, 'NUD': 1, 'PP ': 23, 'RDJ': 1, 'DJI': 1, 'JIM': 1, 'PP.': 3, 'RCR': 1, 'SEY': 1, 'NTW': 3, 'RPT': 2, 'NSY': 1, 'PPS': 2, 'DFR': 1, ' KU': 1, 'E Ç': 1, 'K J': 2, 'STT': 10, ' HM': 3, 'HM ': 5, 'DSI': 2, 'FSU': 2, 'HIQ': 1, 'DD.': 1, 'SDR': 1, 'WNR': 1, 'YEX': 1, 'YNO': 3, 'GSN': 2, 'FI ': 1, 'NKP': 1, 'AIZ': 2, 'BUM': 1, 'PEH': 2, 'RJO': 1, 'NZY': 5, 'ZY.': 1, 'HTT': 2, 'GEV': 2, 'EMR': 2, 'LFH': 3, 'FHA': 2, 'ONP': 2, 'BTT': 3, ' TC': 2, 'AHY': 1, 'HYE': 2, 'RHY': 8, 'WSP': 8, 'YNX': 1, 'PRY': 5, 'HBU': 3, 'OHÓ': 2, 'HÓ ': 2, 'Ó S': 1, 'Ó H': 1, 'ICN': 1, 'CNO': 1, 'DSU': 3, 'WIZ': 2, 'NGB': 1, 'GBU': 1, 'ROQ': 2, 'UFR': 1, 'BYW': 1, 'YWO': 1, 'CIZ': 2, 'RYH': 3, 'YHI': 1, 'RYD': 2, 'YDA': 2, 'EEX': 1, 'XHU': 1, 'OOC': 1, 'AFY': 1, 'GSY': 1, 'ESJ': 1, 'SPY': 2, 'LYR': 12, 'ALJ': 1, 'LJ.': 1, 'J. ': 2, 'KSO': 7, 'SQ.': 2, 'Q. ': 3, ' T.': 1, ' J.': 1, 'LAÎ': 1, 'AÎT': 1, 'ÎT ': 1, 'AA ': 1, 'EAI': 2, 'OFN': 1, 'FNO': 1, 'KYE': 1, 'GND': 1, 'KI ': 1, 'THT': 10, 'WNO': 4, 'PSB': 1, 'KSI': 4, 'YDR': 7, 'IQ.': 1, 'MR ': 1, 'DAH': 1, 'LLH': 2, 'YIT': 6, ' RÈ': 1, 'RÈG': 1, 'ÈGL': 1, 'GTO': 2, 'VYW': 9, ' K.': 2, 'K.C': 2, '.C.': 3, 'OYH': 1, 'OFL': 1, 'NDT': 5, 'BI.': 1, 'FOF': 1, 'KSU': 1, 'EOH': 2, 'Z S': 1, 'S .': 20, 'G..': 1, 'VYI': 2, 'YIS': 3, 'PUG': 9, 'UGN': 9, 'OUW': 1, 'UWH': 1, 'IIM': 1, 'CAC': 5, 'DTO': 3, 'NYM': 4, 'CKM': 1, 'NGC': 1, 'GCA': 1, 'MPF': 1, 'PFI': 1, 'NGO': 10, 'LPR': 2, 'FOI': 3, 'UYO': 1, ' RÉ': 1, 'RÉU': 1, 'ÉUN': 1, 'RDH': 1, 'DMR': 1, 'XYS': 1, 'YSM': 7, 'LLM': 1, 'LMR': 1, 'SP.': 1, 'RUO': 1, 'NTP': 2, 'NDP': 2, 'DPO': 2, ' PS': 7, 'KLO': 1, 'OUI': 1, 'UI ': 1, 'DWH': 4, 'VEO': 1, 'MAU': 1, 'AUV': 2, 'UVA': 1, ' DH': 1, 'VI ': 2, 'MSM': 2, 'NGW': 8, 'GWH': 5, 'OMH': 2, 'MHE': 2, 'SWH': 5, 'FAK': 1, ' DÉ': 1, 'DÉN': 1, 'ÉNO': 1, 'UEM': 2, 'UVR': 1, 'VRE': 1, 'JUG': 2, ' IO': 2, 'PAK': 187, ' ZA': 709, 'ETZ': 175, 'TZS': 175, 'ZSC': 175, '. Z': 54, 'DSM': 19, '. X': 79, 'XIV': 14, ' XV': 11, 'XV.': 15, 'XVI': 44, 'XIX': 14, ' XX': 56, 'XX.': 12, 'XXI': 46, 'XXV': 35, 'XXX': 33, ' XL': 33, 'XL.': 4, 'XLI': 17, 'HSA': 41, 'XLV': 12, 'LV.': 5, ' LV': 22, ' LX': 69, 'LX.': 3, 'LXI': 16, 'LXV': 13, 'LXX': 37, 'DIX': 2, 'ARH': 1, 'DYN': 2, 'L Z': 14, 'LOL': 2, 'TOF': 4, 'TYT': 6, 'N Z': 65, ' IA': 4, 'ESV': 1, 'SVA': 4, 'DNA': 2, 'ARW': 11, 'EIF': 2, 'RAE': 3, 'MO ': 3, 'ZA.': 1, 'LAE': 3, 'TSC': 1, 'AES': 2, 'PSA': 2, 'O Z': 97, 'KHA': 1, 'NOA': 4, 'IAV': 1, 'Y Z': 10, 'ZOA': 1, 'OAG': 2, 'RGH': 2, 'YLA': 3, 'SST': 5, 'HOH': 1, 'AUF': 1, 'UFE': 1, 'IAZ': 2, 'ZZO': 1, 'ZO ': 1, 'D Z': 111, 'HPI': 4, 'HMI': 1, 'PEZ': 1, 'ZIA': 1, 'LCY': 1, 'CYO': 1, 'RAA': 1, 'AAN': 1, ' EZ': 1, 'EZA': 1, ' ZU': 1, ' MS': 1, 'G Z': 8, 'HYB': 1, 'WAB': 1, 'BME': 1, 'AYF': 4, 'YFA': 1, 'ZZ ': 3, 'Z I': 1, ' O ': 212, 'IDW': 1, 'DDY': 7, 'UDM': 1, 'DOX': 4, 'RDF': 1, 'G .': 3, 'FTF': 1, 'LDA': 3, 'GSG': 1, 'SGL': 2, 'ESL': 1, 'WSY': 1, 'NOF': 1, 'GEI': 1, 'FTT': 6, 'B Y': 2, ' UD': 4, 'AB ': 4, 'ESF': 2, 'IRU': 3, 'OB.': 2, 'OYF': 12, 'YFU': 13, 'COE': 2, 'M Z': 10, 'NTB': 1, 'HFO': 2, 'YSO': 1, 'MYF': 1, 'YFO': 3, 'BB.': 1, 'AKL': 3, 'ODT': 8, 'JIN': 5, 'EYT': 3, 'CUF': 1, 'E.A': 1, '.AN': 1, 'MAW': 2, 'HPR': 1, ' OE': 17, 'PBR': 12, 'LYF': 1, 'ESG': 1, 'SGO': 1, 'GHU': 1, 'PSU': 1, 'CTT': 1, 'MOB': 2, 'ADC': 2, 'DCA': 2, 'UYE': 2, 'XET': 2, 'OFG': 1, 'FGO': 1, 'YSA': 1, 'HPA': 1, 'ITW': 1, 'WLA': 1, 'MSA': 1, 'E.L': 1, '.LE': 1, 'U.Z': 1, '.ZA': 3, 'LSS': 1, 'GSO': 1, 'MSD': 1, 'WNT': 2, 'BIB': 1, 'U Z': 1, 'EKN': 2, 'LSL': 1, 'LSW': 1, 'VIB': 1, 'NHI': 1, 'GVI': 1, 'ULR': 1, 'LRU': 1, 'EUL': 2, 'WNA': 2, 'WKI': 1, 'MBT': 1, 'BTH': 1, 'WFL': 3, 'YMB': 6, 'TCR': 2, 'VYP': 1, 'SYT': 1, 'NEQ': 4, 'NSJ': 1, 'SJU': 3, 'ZZY': 2, 'UEA': 1, 'IMD': 1, 'MDI': 1, 'NSD': 1, 'HTB': 3, 'NPI': 1, 'EPB': 1, 'PBU': 1, 'AYW': 4, 'ZET': 10, 'WST': 1, 'LCE': 1, 'LFF': 1, 'EAH': 1, 'LLD': 1, 'CEH': 1, 'CHC': 1, 'HCA': 1, 'CCR': 1, 'RO.': 1, 'BSS': 1, ' OG': 2, 'BUG': 1, 'LLC': 1, 'CEY': 2, 'FTO': 3, 'SSC': 1, 'JUB': 2, 'COZ': 1, 'OUA': 1, 'NDB': 3, 'DBE': 1, 'NEH': 2, 'MSI': 2, 'VEC': 2, 'CHB': 10, 'CHP': 1, 'HPO': 1, 'SCS': 1, 'AON': 1, 'UBV': 3, 'BVE': 3, 'WOW': 2, 'HBA': 8, 'BJU': 2, 'CEU': 1, 'F X': 1, 'HYH': 1, 'FWE': 2, 'S.Z': 1, 'EYF': 1, 'YFL': 2, 'FUP': 1, 'HWI': 2, 'PTW': 1, 'IPF': 1, 'PFO': 1, 'AWT': 1, 'HTG': 1, 'TGL': 1, 'FSE': 1, 'LTF': 1, 'SOH': 1, 'IHA': 1, 'MTE': 1, 'YMY': 2, 'TBE': 3, 'BAP': 1, 'LLW': 1, 'SHD': 1, 'HDO': 1, 'WDA': 1, 'GEH': 2, 'UEB': 1, 'G.T': 2, '.TH': 6, 'KCR': 1, 'LMT': 1, 'LFO': 1, 'GSA': 3, 'LBL': 2, 'DTU': 1, 'HBE': 1, 'IGB': 1, 'GBY': 1, 'GSD': 1, 'HUB': 3, 'BBU': 3, 'EYB': 1, 'ODP': 1, 'DPI': 1, 'DFL': 1, 'LFL': 1, 'SFL': 1, 'CHW': 2, 'OWR': 1, 'WEW': 1, 'KSP': 1, 'KHO': 1, 'GWA': 3, 'KA ': 3, 'YSU': 2, 'FEO': 1, 'DGA': 1, 'HPE': 1, 'EWT': 2, 'DGO': 1, 'YHE': 2, 'GUY': 1, 'SSB': 1, 'YEF': 1, 'YEP': 1, 'TFE': 1, 'O .': 2, 'RSG': 1, 'ADB': 2, 'AKM': 1, 'RMF': 2, 'MFU': 2, 'TMY': 1, 'AYC': 1, 'YCR': 1, 'NBI': 1, 'MSL': 1, 'I Z': 1, 'NDH': 1, 'YEY': 1, 'LFD': 1, 'XUS': 1, 'RTW': 1, 'FSA': 1, 'TPI': 1, 'OWO': 1, 'YPL': 1, 'PTR': 1, 'EKR': 1, 'KRE': 1, 'UCR': 1, 'IPN': 1, 'PNO': 1, 'I .': 1, 'HTA': 3, 'WWE': 1, 'R.T': 1, 'UDH': 1, 'WUM': 1, 'D.Z': 1, 'K.O': 1, '.O ': 1, 'R.S': 1, '.SO': 1, 'R.Y': 1, '.YE': 1, 'GSF': 2, 'NDD': 1, 'Y.T': 1, 'D.D': 1, '.DO': 1, 'THZ': 1, 'HZA': 1, 'KAN': 1, 'K Z': 3, 'GEP': 2, 'OAH': 1, 'AHS': 1, 'RDD': 1, 'SYB': 1, 'YBI': 1, 'CAE': 1, 'W .': 1, 'RMW': 1, 'MWH': 1, 'SOT': 6, 'OVT': 2, 'VTH': 2, 'KST': 8, 'R..': 2, 'OUH': 1, 'UHA': 1, 'OGT': 1, 'WTO': 1, 'OUO': 1, 'UOF': 1, 'ONH': 1, 'DSW': 1, 'XE ': 2, 'USM': 1, 'HEH': 1, 'EZY': 1, 'LGY': 1, 'UEV': 1, 'PSS': 1, 'SSK': 1, 'BYH': 1, 'UAF': 1, 'LOH': 1, 'OHU': 1, 'GSW': 1, 'U J': 1, 'JOV': 2, 'PEU': 2, 'IWA': 1, 'TYN': 1, 'BYA': 1, 'NUG': 2, 'ISW': 2, 'EMW': 1, 'MWI': 1, 'NRU': 1, 'EMD': 1, 'MDO': 1, 'WNP': 1, 'OOE': 3, 'USO': 2, 'MBK': 2, 'BKI': 2, 'WWA': 1, 'DCO': 1, 'YEJ': 1, 'BEU': 1, 'AH.': 4, 'PPU': 1, 'DUD': 2, 'UDU': 2, 'DU ': 2, 'EIK': 2, 'IKA': 2, 'NXE': 1, 'B D': 1, 'WNF': 1, 'HU ': 5, 'OEF': 2, 'ITM': 1, 'LFV': 1, 'FVE': 1, 'ADW': 1, 'WFR': 1, 'LDF': 1, 'HYL': 1, 'GNU': 1, 'FEU': 1, 'EUD': 1, 'AOU': 1, 'RNB': 1, 'VIZ': 2, 'IZ.': 2, 'Z. ': 2, 'SA.': 1, ' C.': 1, 'I..': 9, 'LTT': 1, 'MUG': 1, 'CTH': 1, 'GSE': 1, 'JEO': 1, ' F.': 1, 'RMH': 1, 'V..': 1, '..H': 1, '.HE': 1, 'AKB': 1, 'KBU': 1, 'SHP': 1, 'HPU': 1, 'CTM': 1, 'LSF': 1, 'TAA': 1, 'AAT': 1, 'L..': 1, 'X..': 1, 'XY ': 1, '..T': 2, 'SYN': 2, 'YNC': 1, 'S X': 1, 'DYT': 1, 'YSP': 1, 'PO ': 2, 'NUB': 1, 'TSD': 1, 'MOG': 1, 'OGO': 1, 'PAE': 1, 'S.Q': 1, '.QU': 1, 'UOD': 1, 'S.A': 1, '.A ': 1, 'MHI': 1, 'IAH': 2, 'AUU': 1, 'AYR': 1, 'IFA': 1, 'LWE': 1, 'SRA': 1, 'EEO': 1, 'SMT': 2, 'WSH': 1, ' UB': 1, 'BIQ': 1, 'DDH': 5, 'DHI': 4, 'NAZ': 1, '..I': 1, 'E X': 1, 'POB': 1, '..C': 1, '.CO': 1, 'CIU': 1, 'TAV': 1, 'C..': 1, 'UPD': 1, 'PDA': 1, ' U.': 7, 'U.S': 7, 'AYY': 1, ' WW': 8, 'WWW': 8, 'WW.': 8, 'W.G': 8, '.GU': 8, 'G.O': 8, '.OR': 8, ' .A': 1, 'RKC': 1, 'KCO': 1, 'H .': 12, ' .E': 22, ' .B': 1, '.B.': 1, ' .C': 2, '.C ': 1, '.E ': 1, ' PG': 2, 'PGL': 1, ' .D': 1, 'WNL': 1, 'XTS': 1, 'CII': 2, ' .F': 11, '.F.': 11, 'F..': 7, 'YEE': 2, 'OFR': 1, 'RGC': 1, 'GCO': 1, 'TDA': 1, 'RGD': 2, 'PG ': 1, 'WSL': 1}\n"
     ]
    }
   ],
   "source": [
    "for file in processed_dir.iterdir():\n",
    "    if file.is_file():\n",
    "        with open(file, 'r', encoding='utf-8') as f:\n",
    "            text = f.read()\n",
    "        count_trigrams(text)\n",
    "\n",
    "print(trigram_appearances)"
   ]
  },
  {
   "cell_type": "markdown",
   "metadata": {},
   "source": [
    "# <b> Task 2: Third-order letter approximation generation\n"
   ]
  },
  {
   "cell_type": "markdown",
   "metadata": {},
   "source": [
    "### <b> 2.1 Generating string.\n",
    "#### <b> In this section we will generate a string using the trigram model we created.\n",
    "<br>"
   ]
  },
  {
   "cell_type": "markdown",
   "metadata": {},
   "source": [
    "##### Take in a bigram, fill a dictionary with all trigrams that begin with that bigram. <br>For example; if our bigram is \"ca\", we can expect to fill our dictionary with words like \"car\", \"cat\" and \"can\"."
   ]
  },
  {
   "cell_type": "code",
   "execution_count": 124,
   "metadata": {},
   "outputs": [],
   "source": [
    "def find_matching_trigrams(trigram_appearances, current_bigram):\n",
    "    matching_trigrams = {\n",
    "        trigram: count for trigram, count in trigram_appearances.items() if trigram.startswith(current_bigram)\n",
    "    }\n",
    "    return matching_trigrams"
   ]
  },
  {
   "cell_type": "markdown",
   "metadata": {},
   "source": [
    "##### From the matching trigrams dictionary, we select a trigram. <br>The selection is random, but weighted by how often each matching trigram appeared. <br>Return the last character of the selected trigram."
   ]
  },
  {
   "cell_type": "code",
   "execution_count": 125,
   "metadata": {},
   "outputs": [],
   "source": [
    "def select_next_character(matching_trigrams):\n",
    "    trigrams = list(matching_trigrams.keys())\n",
    "    weights = list(matching_trigrams.values())\n",
    "\n",
    "    selected_trigram = random.choices(trigrams, weights=weights, k=1)[0]\n",
    "    return selected_trigram[2]"
   ]
  },
  {
   "cell_type": "markdown",
   "metadata": {},
   "source": [
    "##### Take in a seed and the trigram dictionary. <br>While the generated text is shorter than 10000 characters: Set the current bigram as the last two characters of the generated text, call find_matching_trigrams and select_next_character, add the selected character to the string. If it has no matches add an \"a\"."
   ]
  },
  {
   "cell_type": "code",
   "execution_count": 126,
   "metadata": {},
   "outputs": [],
   "source": [
    "def generate_string(trigram_appearances, seed):\n",
    "    generated_string = seed\n",
    "    while len(generated_string) < 10000:\n",
    "        current_bigram = generated_string[-2:]\n",
    "        matching_trigrams = find_matching_trigrams(trigram_appearances, current_bigram)\n",
    "\n",
    "        if not matching_trigrams:\n",
    "            next_character = 'a'\n",
    "\n",
    "        next_character = select_next_character(matching_trigrams)\n",
    "        generated_string += next_character\n",
    "\n",
    "    return generated_string"
   ]
  },
  {
   "cell_type": "markdown",
   "metadata": {},
   "source": [
    "##### Call generate_string with the seed \"th\" and write the generated string to a file in the language models directory. <br>Print a confirmation informing the user where the file has been stored"
   ]
  },
  {
   "cell_type": "code",
   "execution_count": 127,
   "metadata": {},
   "outputs": [
    {
     "name": "stdout",
     "output_type": "stream",
     "text": [
      "Generated string saved to languageModels/myGeneratedString.txt\n"
     ]
    }
   ],
   "source": [
    "seed = 'TH'\n",
    "generate_string_final = generate_string(trigram_appearances, seed)\n",
    "\n",
    "output_file = \"languageModels/myGeneratedString.txt\"\n",
    "with open(output_file, \"w\", encoding=\"utf-8\") as f:\n",
    "    f.write(generate_string_final) \n",
    "\n",
    "print(f\"Generated string saved to {output_file}\")"
   ]
  },
  {
   "cell_type": "markdown",
   "metadata": {},
   "source": [
    "# Task 3: Analyze your model\n"
   ]
  },
  {
   "cell_type": "code",
   "execution_count": 128,
   "metadata": {},
   "outputs": [
    {
     "data": {
      "text/plain": [
       "38.0"
      ]
     },
     "execution_count": 128,
     "metadata": {},
     "output_type": "execute_result"
    }
   ],
   "source": [
    "def determine_accuracy(words_file, generated_words_file):\n",
    "    # Process the real words into a set\n",
    "    with open(words_file, 'r', encoding='utf-8') as f:\n",
    "        real_words = set(word.strip() for word in f)\n",
    "\n",
    "    # Read the generated words\n",
    "    with open(generated_words_file, 'r', encoding='utf-8') as f:\n",
    "        generated_text = f.read()\n",
    "\n",
    "    # Split the generated text into words\n",
    "    generated_words = generated_text.split()\n",
    "\n",
    "    # Count how many generated words match real words\n",
    "    correct = sum(1 for word in generated_words if word in real_words)\n",
    "\n",
    "    return round(correct / len(generated_words), 2) * 100\n",
    "\n",
    "determine_accuracy(\"languageModels/words.txt\", \"languageModels/myGeneratedString.txt\")\n"
   ]
  },
  {
   "cell_type": "markdown",
   "metadata": {},
   "source": [
    "# Task 4: Export your model as JSON"
   ]
  },
  {
   "cell_type": "code",
   "execution_count": 129,
   "metadata": {},
   "outputs": [],
   "source": [
    "# Write the trigram model to a JSON file called trigrams.json\n",
    "def export_model(trigram_appearances, output_file):\n",
    "    with open(output_file, \"w\", encoding=\"utf-8\") as f:\n",
    "        json.dump(trigram_appearances, f)\n",
    "\n",
    "\n",
    "export_model(trigram_appearances, \"trigrams.json\")        "
   ]
  }
 ],
 "metadata": {
  "kernelspec": {
   "display_name": "base",
   "language": "python",
   "name": "python3"
  },
  "language_info": {
   "codemirror_mode": {
    "name": "ipython",
    "version": 3
   },
   "file_extension": ".py",
   "mimetype": "text/x-python",
   "name": "python",
   "nbconvert_exporter": "python",
   "pygments_lexer": "ipython3",
   "version": "3.11.5"
  }
 },
 "nbformat": 4,
 "nbformat_minor": 2
}
