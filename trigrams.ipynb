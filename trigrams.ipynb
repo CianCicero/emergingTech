{
 "cells": [
  {
   "cell_type": "markdown",
   "metadata": {},
   "source": [
    "# Task 1: Third-order letter approximation model\n",
    "\n"
   ]
  },
  {
   "cell_type": "markdown",
   "metadata": {},
   "source": [
    "#### 1.1 Converting texts to appropriate format (Only including ASCII letters, full stops and spaces)"
   ]
  },
  {
   "cell_type": "code",
   "execution_count": null,
   "metadata": {},
   "outputs": [],
   "source": [
    "import os\n",
    "from pathlib import Path\n",
    "import re\n",
    "\n",
    "def process_text(filename):\n",
    "    input_dir = Path(\"unprocessedTexts\")\n",
    "    output_dir = Path(\"processedTexts\")\n",
    "    input_dir.mkdir(exist_ok=True)\n",
    "    output_dir.mkdir(exist_ok=True)\n",
    "    \n",
    "    try:\n",
    "        # Read input file\n",
    "        input_path = input_dir / filename\n",
    "        with open(input_path, 'r', encoding='utf-8') as f:\n",
    "            text = f.read()\n",
    "        \n",
    "        # Keep only letters, spaces and full stops\n",
    "        processed = ''\n",
    "        for char in text:\n",
    "            if char.isalpha() or char == '.' or char == ' ':\n",
    "                processed += char\n",
    "        \n",
    "        # Remove multiple spaces\n",
    "        processed = re.sub(' +', ' ', processed)\n",
    "                \n",
    "        # Write processed text to new file\n",
    "        output_filename = 'processed_' + filename\n",
    "        output_path = output_dir / output_filename\n",
    "        with open(output_path, 'w', encoding='utf-8') as f:\n",
    "            f.write(processed)\n",
    "            \n",
    "        print(f\"Successfully processed {filename}\")\n",
    "            \n",
    "    except Exception as e:\n",
    "        print(f\"Error processing {filename}: {str(e)}\")\n"
   ]
  },
  {
   "cell_type": "markdown",
   "metadata": {},
   "source": [
    "#### 1.2 Iteration to process all files in the \"unprocessedTexts\" folder"
   ]
  },
  {
   "cell_type": "code",
   "execution_count": 9,
   "metadata": {},
   "outputs": [
    {
     "name": "stdout",
     "output_type": "stream",
     "text": [
      "Successfully processed Anthem.txt\n"
     ]
    }
   ],
   "source": [
    "# Process all files in the unprocessedTexts folder\n",
    "input_dir = Path(\"unprocessedTexts\")\n",
    "for file in input_dir.iterdir():\n",
    "    if file.is_file():\n",
    "        process_text(file.name)"
   ]
  }
 ],
 "metadata": {
  "kernelspec": {
   "display_name": "Python 3",
   "language": "python",
   "name": "python3"
  },
  "language_info": {
   "codemirror_mode": {
    "name": "ipython",
    "version": 3
   },
   "file_extension": ".py",
   "mimetype": "text/x-python",
   "name": "python",
   "nbconvert_exporter": "python",
   "pygments_lexer": "ipython3",
   "version": "3.12.7"
  }
 },
 "nbformat": 4,
 "nbformat_minor": 2
}
